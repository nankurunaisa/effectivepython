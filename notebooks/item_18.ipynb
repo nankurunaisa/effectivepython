{
 "metadata": {
  "language_info": {
   "codemirror_mode": {
    "name": "ipython",
    "version": 3
   },
   "file_extension": ".py",
   "mimetype": "text/x-python",
   "name": "python",
   "nbconvert_exporter": "python",
   "pygments_lexer": "ipython3",
   "version": "3.8.5-final"
  },
  "orig_nbformat": 2,
  "kernelspec": {
   "name": "python3",
   "display_name": "Python 3.8.5 64-bit ('.venv': venv)",
   "metadata": {
    "interpreter": {
     "hash": "73bbdec3959fe17c5cd1a7f08d0a8ad0cc33e165356ce763e8b97eb7675ac8c7"
    }
   }
  }
 },
 "nbformat": 4,
 "nbformat_minor": 2,
 "cells": [
  {
   "cell_type": "code",
   "execution_count": 1,
   "metadata": {},
   "outputs": [
    {
     "output_type": "execute_result",
     "data": {
      "text/plain": [
       "<function __main__.close_open_files()>"
      ]
     },
     "metadata": {},
     "execution_count": 1
    }
   ],
   "source": [
    "#!/usr/bin/env PYTHONHASHSEED=1234 python3\n",
    "\n",
    "# Copyright 2014-2019 Brett Slatkin, Pearson Education Inc.\n",
    "#\n",
    "# Licensed under the Apache License, Version 2.0 (the \"License\");\n",
    "# you may not use this file except in compliance with the License.\n",
    "# You may obtain a copy of the License at\n",
    "#\n",
    "#     http://www.apache.org/licenses/LICENSE-2.0\n",
    "#\n",
    "# Unless required by applicable law or agreed to in writing, software\n",
    "# distributed under the License is distributed on an \"AS IS\" BASIS,\n",
    "# WITHOUT WARRANTIES OR CONDITIONS OF ANY KIND, either express or implied.\n",
    "# See the License for the specific language governing permissions and\n",
    "# limitations under the License.\n",
    "\n",
    "# Reproduce book environment\n",
    "import random\n",
    "random.seed(1234)\n",
    "\n",
    "import logging\n",
    "from pprint import pprint\n",
    "from sys import stdout as STDOUT\n",
    "\n",
    "# Write all output to a temporary directory\n",
    "import atexit\n",
    "import gc\n",
    "import io\n",
    "import os\n",
    "import tempfile\n",
    "\n",
    "TEST_DIR = tempfile.TemporaryDirectory()\n",
    "atexit.register(TEST_DIR.cleanup)\n",
    "\n",
    "# Make sure Windows processes exit cleanly\n",
    "OLD_CWD = os.getcwd()\n",
    "atexit.register(lambda: os.chdir(OLD_CWD))\n",
    "os.chdir(TEST_DIR.name)\n",
    "\n",
    "def close_open_files():\n",
    "    everything = gc.get_objects()\n",
    "    for obj in everything:\n",
    "        if isinstance(obj, io.IOBase):\n",
    "            obj.close()\n",
    "\n",
    "atexit.register(close_open_files)"
   ]
  },
  {
   "cell_type": "code",
   "execution_count": 2,
   "metadata": {},
   "outputs": [
    {
     "output_type": "stream",
     "name": "stdout",
     "text": [
      "{'profile_1234.png': <_io.BufferedRandom name='profile_1234.png'>}\nb'image data here 1234'\n"
     ]
    }
   ],
   "source": [
    "# Example 1\n",
    "pictures = {}\n",
    "path = 'profile_1234.png'\n",
    "\n",
    "with open(path, 'wb') as f:\n",
    "    f.write(b'image data here 1234')\n",
    "\n",
    "if (handle := pictures.get(path)) is None:\n",
    "    try:\n",
    "        handle = open(path, 'a+b')\n",
    "    except OSError:\n",
    "        print(f'Failed to open path {path}')\n",
    "        raise\n",
    "    else:\n",
    "        pictures[path] = handle\n",
    "\n",
    "handle.seek(0)\n",
    "image_data = handle.read()\n",
    "\n",
    "print(pictures)\n",
    "print(image_data)"
   ]
  },
  {
   "cell_type": "code",
   "execution_count": 3,
   "metadata": {},
   "outputs": [
    {
     "output_type": "stream",
     "name": "stdout",
     "text": [
      "{'profile_9991.png': <_io.BufferedRandom name='profile_9991.png'>}\nb'image data here 9991'\n{'profile_9922.png': <_io.BufferedRandom name='profile_9922.png'>}\nb'image data here 9991'\n"
     ]
    }
   ],
   "source": [
    "# Example 2\n",
    "# Examples using in and KeyError\n",
    "pictures = {}\n",
    "path = 'profile_9991.png'\n",
    "\n",
    "with open(path, 'wb') as f:\n",
    "    f.write(b'image data here 9991')\n",
    "\n",
    "if path in pictures:\n",
    "    handle = pictures[path]\n",
    "else:\n",
    "    try:\n",
    "        handle = open(path, 'a+b')\n",
    "    except OSError:\n",
    "        print(f'Failed to open path {path}')\n",
    "        raise\n",
    "    else:\n",
    "        pictures[path] = handle\n",
    "\n",
    "handle.seek(0)\n",
    "image_data = handle.read()\n",
    "\n",
    "print(pictures)\n",
    "print(image_data)\n",
    "\n",
    "pictures = {}\n",
    "path = 'profile_9922.png'\n",
    "\n",
    "with open(path, 'wb') as f:\n",
    "    f.write(b'image data here 9991')\n",
    "\n",
    "try:\n",
    "    handle = pictures[path]\n",
    "except KeyError:\n",
    "    try:\n",
    "        handle = open(path, 'a+b')\n",
    "    except OSError:\n",
    "        print(f'Failed to open path {path}')\n",
    "        raise\n",
    "    else:\n",
    "        pictures[path] = handle\n",
    "\n",
    "handle.seek(0)\n",
    "image_data = handle.read()\n",
    "\n",
    "print(pictures)\n",
    "print(image_data)"
   ]
  },
  {
   "cell_type": "code",
   "execution_count": 4,
   "metadata": {},
   "outputs": [
    {
     "output_type": "stream",
     "name": "stdout",
     "text": [
      "{'profile_9239.png': <_io.BufferedRandom name='profile_9239.png'>}\nb'image data here 9239'\n"
     ]
    }
   ],
   "source": [
    "# Example 3\n",
    "pictures = {}\n",
    "path = 'profile_9239.png'\n",
    "\n",
    "with open(path, 'wb') as f:\n",
    "    f.write(b'image data here 9239')\n",
    "\n",
    "try:\n",
    "    handle = pictures.setdefault(path, open(path, 'a+b'))\n",
    "except OSError:\n",
    "    print(f'Failed to open path {path}')\n",
    "    raise\n",
    "else:\n",
    "    handle.seek(0)\n",
    "    image_data = handle.read()\n",
    "\n",
    "print(pictures)\n",
    "print(image_data)"
   ]
  },
  {
   "cell_type": "code",
   "execution_count": 5,
   "metadata": {},
   "outputs": [
    {
     "output_type": "stream",
     "name": "stderr",
     "text": [
      "ERROR:root:Expected\nTraceback (most recent call last):\n  File \"<ipython-input-5-0a5fc78100bd>\", line 18, in <module>\n    handle = pictures[path]\nTypeError: open_picture() missing 1 required positional argument: 'profile_path'\n"
     ]
    }
   ],
   "source": [
    "# Example 4\n",
    "try:\n",
    "    path = 'profile_4555.csv'\n",
    "    \n",
    "    with open(path, 'wb') as f:\n",
    "        f.write(b'image data here 9239')\n",
    "    \n",
    "    from collections import defaultdict\n",
    "    \n",
    "    def open_picture(profile_path):\n",
    "        try:\n",
    "            return open(profile_path, 'a+b')\n",
    "        except OSError:\n",
    "            print(f'Failed to open path {profile_path}')\n",
    "            raise\n",
    "    \n",
    "    pictures = defaultdict(open_picture)\n",
    "    handle = pictures[path]\n",
    "    handle.seek(0)\n",
    "    image_data = handle.read()\n",
    "except:\n",
    "    logging.exception('Expected')\n",
    "else:\n",
    "    assert False"
   ]
  },
  {
   "cell_type": "code",
   "execution_count": 6,
   "metadata": {},
   "outputs": [
    {
     "output_type": "stream",
     "name": "stdout",
     "text": [
      "{'account_9090.csv': <_io.BufferedRandom name='account_9090.csv'>}\nb'image data here 9090'\n"
     ]
    }
   ],
   "source": [
    "# Example 5\n",
    "path = 'account_9090.csv'\n",
    "\n",
    "with open(path, 'wb') as f:\n",
    "    f.write(b'image data here 9090')\n",
    "\n",
    "def open_picture(profile_path):\n",
    "    try:\n",
    "        return open(profile_path, 'a+b')\n",
    "    except OSError:\n",
    "        print(f'Failed to open path {profile_path}')\n",
    "        raise\n",
    "\n",
    "class Pictures(dict):\n",
    "    def __missing__(self, key):\n",
    "        value = open_picture(key)\n",
    "        self[key] = value\n",
    "        return value\n",
    "\n",
    "pictures = Pictures()\n",
    "handle = pictures[path]\n",
    "handle.seek(0)\n",
    "image_data = handle.read()\n",
    "print(pictures)\n",
    "print(image_data)"
   ]
  },
  {
   "cell_type": "code",
   "execution_count": null,
   "metadata": {},
   "outputs": [],
   "source": []
  }
 ]
}