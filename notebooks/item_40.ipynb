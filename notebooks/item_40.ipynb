{
 "metadata": {
  "language_info": {
   "codemirror_mode": {
    "name": "ipython",
    "version": 3
   },
   "file_extension": ".py",
   "mimetype": "text/x-python",
   "name": "python",
   "nbconvert_exporter": "python",
   "pygments_lexer": "ipython3",
   "version": "3.8.8-final"
  },
  "orig_nbformat": 2,
  "kernelspec": {
   "name": "python3",
   "display_name": "Python 3.8.8 64-bit ('py38': conda)",
   "metadata": {
    "interpreter": {
     "hash": "ccd487ed38572b3e19ef3faf0990f633e80ca0051bb31e2083bbae684677b431"
    }
   }
  }
 },
 "nbformat": 4,
 "nbformat_minor": 2,
 "cells": [
  {
   "cell_type": "code",
   "execution_count": 1,
   "metadata": {},
   "outputs": [
    {
     "output_type": "execute_result",
     "data": {
      "text/plain": [
       "<function __main__.close_open_files()>"
      ]
     },
     "metadata": {},
     "execution_count": 1
    }
   ],
   "source": [
    "#!/usr/bin/env PYTHONHASHSEED=1234 python3\n",
    "\n",
    "# Copyright 2014-2019 Brett Slatkin, Pearson Education Inc.\n",
    "#\n",
    "# Licensed under the Apache License, Version 2.0 (the \"License\");\n",
    "# you may not use this file except in compliance with the License.\n",
    "# You may obtain a copy of the License at\n",
    "#\n",
    "#     http://www.apache.org/licenses/LICENSE-2.0\n",
    "#\n",
    "# Unless required by applicable law or agreed to in writing, software\n",
    "# distributed under the License is distributed on an \"AS IS\" BASIS,\n",
    "# WITHOUT WARRANTIES OR CONDITIONS OF ANY KIND, either express or implied.\n",
    "# See the License for the specific language governing permissions and\n",
    "# limitations under the License.\n",
    "\n",
    "# Reproduce book environment\n",
    "import random\n",
    "random.seed(1234)\n",
    "\n",
    "import logging\n",
    "from pprint import pprint\n",
    "from sys import stdout as STDOUT\n",
    "\n",
    "# Write all output to a temporary directory\n",
    "import atexit\n",
    "import gc\n",
    "import io\n",
    "import os\n",
    "import tempfile\n",
    "\n",
    "TEST_DIR = tempfile.TemporaryDirectory()\n",
    "atexit.register(TEST_DIR.cleanup)\n",
    "\n",
    "# Make sure Windows processes exit cleanly\n",
    "OLD_CWD = os.getcwd()\n",
    "atexit.register(lambda: os.chdir(OLD_CWD))\n",
    "os.chdir(TEST_DIR.name)\n",
    "\n",
    "def close_open_files():\n",
    "    everything = gc.get_objects()\n",
    "    for obj in everything:\n",
    "        if isinstance(obj, io.IOBase):\n",
    "            obj.close()\n",
    "\n",
    "atexit.register(close_open_files)"
   ]
  },
  {
   "cell_type": "code",
   "execution_count": 2,
   "metadata": {},
   "outputs": [],
   "source": [
    "# Example 1\n",
    "class MyBaseClass:\n",
    "    def __init__(self, value):\n",
    "        self.value = value\n",
    "\n",
    "class MyChildClass(MyBaseClass):\n",
    "    def __init__(self):\n",
    "        MyBaseClass.__init__(self, 5)\n",
    "\n",
    "    def times_two(self):\n",
    "        return self.value * 2\n",
    "\n",
    "foo = MyChildClass()\n",
    "assert foo.times_two() == 10"
   ]
  },
  {
   "cell_type": "code",
   "execution_count": 3,
   "metadata": {},
   "outputs": [],
   "source": [
    "# Example 2\n",
    "class TimesTwo:\n",
    "    def __init__(self):\n",
    "        self.value *= 2\n",
    "\n",
    "class PlusFive:\n",
    "    def __init__(self):\n",
    "        self.value += 5"
   ]
  },
  {
   "cell_type": "code",
   "execution_count": 4,
   "metadata": {},
   "outputs": [],
   "source": [
    "# Example 3\n",
    "class OneWay(MyBaseClass, TimesTwo, PlusFive):\n",
    "    def __init__(self, value):\n",
    "        MyBaseClass.__init__(self, value)\n",
    "        TimesTwo.__init__(self)\n",
    "        PlusFive.__init__(self)"
   ]
  },
  {
   "cell_type": "code",
   "execution_count": 5,
   "metadata": {},
   "outputs": [
    {
     "output_type": "stream",
     "name": "stdout",
     "text": [
      "First ordering value is (5 * 2) + 5 = 15\n"
     ]
    }
   ],
   "source": [
    "# Example 4\n",
    "foo = OneWay(5)\n",
    "print('First ordering value is (5 * 2) + 5 =', foo.value)"
   ]
  },
  {
   "cell_type": "code",
   "execution_count": 6,
   "metadata": {},
   "outputs": [],
   "source": [
    "# Example 5\n",
    "class AnotherWay(MyBaseClass, PlusFive, TimesTwo):\n",
    "    def __init__(self, value):\n",
    "        MyBaseClass.__init__(self, value)\n",
    "        TimesTwo.__init__(self)\n",
    "        PlusFive.__init__(self)"
   ]
  },
  {
   "cell_type": "code",
   "execution_count": 7,
   "metadata": {},
   "outputs": [
    {
     "output_type": "stream",
     "name": "stdout",
     "text": [
      "Second ordering value is 15\n"
     ]
    }
   ],
   "source": [
    "# Example 6\n",
    "bar = AnotherWay(5)\n",
    "print('Second ordering value is', bar.value)"
   ]
  },
  {
   "cell_type": "code",
   "execution_count": 8,
   "metadata": {},
   "outputs": [],
   "source": [
    "# Example 7\n",
    "class TimesSeven(MyBaseClass):\n",
    "    def __init__(self, value):\n",
    "        MyBaseClass.__init__(self, value)\n",
    "        self.value *= 7\n",
    "\n",
    "class PlusNine(MyBaseClass):\n",
    "    def __init__(self, value):\n",
    "        MyBaseClass.__init__(self, value)\n",
    "        self.value += 9"
   ]
  },
  {
   "cell_type": "code",
   "execution_count": 9,
   "metadata": {},
   "outputs": [
    {
     "output_type": "stream",
     "name": "stdout",
     "text": [
      "Should be (5 * 7) + 9 = 44 but is 14\n"
     ]
    }
   ],
   "source": [
    "# Example 8\n",
    "class ThisWay(TimesSeven, PlusNine):\n",
    "    def __init__(self, value):\n",
    "        TimesSeven.__init__(self, value)\n",
    "        PlusNine.__init__(self, value)\n",
    "\n",
    "foo = ThisWay(5)\n",
    "print('Should be (5 * 7) + 9 = 44 but is', foo.value)"
   ]
  },
  {
   "cell_type": "code",
   "execution_count": 10,
   "metadata": {},
   "outputs": [],
   "source": [
    "# Example 9\n",
    "class MyBaseClass:\n",
    "    def __init__(self, value):\n",
    "        self.value = value\n",
    "\n",
    "class TimesSevenCorrect(MyBaseClass):\n",
    "    def __init__(self, value):\n",
    "        super().__init__(value)\n",
    "        self.value *= 7\n",
    "\n",
    "class PlusNineCorrect(MyBaseClass):\n",
    "    def __init__(self, value):\n",
    "        super().__init__(value)\n",
    "        self.value += 9"
   ]
  },
  {
   "cell_type": "code",
   "execution_count": 11,
   "metadata": {},
   "outputs": [
    {
     "output_type": "stream",
     "name": "stdout",
     "text": [
      "Should be 7 * (5 + 9) = 98 and is 98\n"
     ]
    }
   ],
   "source": [
    "# Example 10\n",
    "class GoodWay(TimesSevenCorrect, PlusNineCorrect):\n",
    "    def __init__(self, value):\n",
    "        super().__init__(value)\n",
    "\n",
    "foo = GoodWay(5)\n",
    "print('Should be 7 * (5 + 9) = 98 and is', foo.value)"
   ]
  },
  {
   "cell_type": "code",
   "execution_count": 12,
   "metadata": {},
   "outputs": [
    {
     "output_type": "stream",
     "name": "stdout",
     "text": [
      "<class '__main__.GoodWay'>\n<class '__main__.TimesSevenCorrect'>\n<class '__main__.PlusNineCorrect'>\n<class '__main__.MyBaseClass'>\n<class 'object'>\n"
     ]
    }
   ],
   "source": [
    "# Example 11\n",
    "mro_str = '\\n'.join(repr(cls) for cls in GoodWay.mro())\n",
    "print(mro_str)"
   ]
  },
  {
   "cell_type": "code",
   "execution_count": 13,
   "metadata": {},
   "outputs": [],
   "source": [
    "# Example 12\n",
    "class ExplicitTrisect(MyBaseClass):\n",
    "    def __init__(self, value):\n",
    "        super(ExplicitTrisect, self).__init__(value)\n",
    "        self.value /= 3\n",
    "assert ExplicitTrisect(9).value == 3"
   ]
  },
  {
   "cell_type": "code",
   "execution_count": 14,
   "metadata": {},
   "outputs": [],
   "source": [
    "# Example 13\n",
    "class AutomaticTrisect(MyBaseClass):\n",
    "    def __init__(self, value):\n",
    "        super(__class__, self).__init__(value)\n",
    "        self.value /= 3\n",
    "\n",
    "class ImplicitTrisect(MyBaseClass):\n",
    "    def __init__(self, value):\n",
    "        super().__init__(value)\n",
    "        self.value /= 3\n",
    "\n",
    "assert ExplicitTrisect(9).value == 3\n",
    "assert AutomaticTrisect(9).value == 3\n",
    "assert ImplicitTrisect(9).value == 3"
   ]
  },
  {
   "cell_type": "code",
   "execution_count": null,
   "metadata": {},
   "outputs": [],
   "source": []
  }
 ]
}