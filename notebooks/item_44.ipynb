{
 "metadata": {
  "language_info": {
   "codemirror_mode": {
    "name": "ipython",
    "version": 3
   },
   "file_extension": ".py",
   "mimetype": "text/x-python",
   "name": "python",
   "nbconvert_exporter": "python",
   "pygments_lexer": "ipython3",
   "version": "3.8.8-final"
  },
  "orig_nbformat": 2,
  "kernelspec": {
   "name": "python3",
   "display_name": "Python 3.8.8 64-bit ('py38': conda)",
   "metadata": {
    "interpreter": {
     "hash": "ccd487ed38572b3e19ef3faf0990f633e80ca0051bb31e2083bbae684677b431"
    }
   }
  }
 },
 "nbformat": 4,
 "nbformat_minor": 2,
 "cells": [
  {
   "cell_type": "code",
   "execution_count": 2,
   "metadata": {},
   "outputs": [
    {
     "output_type": "execute_result",
     "data": {
      "text/plain": [
       "<function __main__.close_open_files()>"
      ]
     },
     "metadata": {},
     "execution_count": 2
    }
   ],
   "source": [
    "#!/usr/bin/env PYTHONHASHSEED=1234 python3\n",
    "\n",
    "# Copyright 2014-2019 Brett Slatkin, Pearson Education Inc.\n",
    "#\n",
    "# Licensed under the Apache License, Version 2.0 (the \"License\");\n",
    "# you may not use this file except in compliance with the License.\n",
    "# You may obtain a copy of the License at\n",
    "#\n",
    "#     http://www.apache.org/licenses/LICENSE-2.0\n",
    "#\n",
    "# Unless required by applicable law or agreed to in writing, software\n",
    "# distributed under the License is distributed on an \"AS IS\" BASIS,\n",
    "# WITHOUT WARRANTIES OR CONDITIONS OF ANY KIND, either express or implied.\n",
    "# See the License for the specific language governing permissions and\n",
    "# limitations under the License.\n",
    "\n",
    "# Reproduce book environment\n",
    "import random\n",
    "random.seed(1234)\n",
    "\n",
    "import logging\n",
    "from pprint import pprint\n",
    "from sys import stdout as STDOUT\n",
    "\n",
    "# Write all output to a temporary directory\n",
    "import atexit\n",
    "import gc\n",
    "import io\n",
    "import os\n",
    "import tempfile\n",
    "\n",
    "TEST_DIR = tempfile.TemporaryDirectory()\n",
    "atexit.register(TEST_DIR.cleanup)\n",
    "\n",
    "# Make sure Windows processes exit cleanly\n",
    "OLD_CWD = os.getcwd()\n",
    "atexit.register(lambda: os.chdir(OLD_CWD))\n",
    "os.chdir(TEST_DIR.name)\n",
    "\n",
    "def close_open_files():\n",
    "    everything = gc.get_objects()\n",
    "    for obj in everything:\n",
    "        if isinstance(obj, io.IOBase):\n",
    "            obj.close()\n",
    "\n",
    "atexit.register(close_open_files)"
   ]
  },
  {
   "cell_type": "code",
   "execution_count": 3,
   "metadata": {},
   "outputs": [],
   "source": [
    "# Example 1\n",
    "class OldResistor:\n",
    "    def __init__(self, ohms):\n",
    "        self._ohms = ohms\n",
    "\n",
    "    def get_ohms(self):\n",
    "        return self._ohms\n",
    "\n",
    "    def set_ohms(self, ohms):\n",
    "        self._ohms = ohms"
   ]
  },
  {
   "cell_type": "code",
   "execution_count": 4,
   "metadata": {},
   "outputs": [
    {
     "output_type": "stream",
     "name": "stdout",
     "text": [
      "Before: 50000.0\nAfter:  10000.0\n"
     ]
    }
   ],
   "source": [
    "# Example 2\n",
    "r0 = OldResistor(50e3)\n",
    "print('Before:', r0.get_ohms())\n",
    "r0.set_ohms(10e3)\n",
    "print('After: ', r0.get_ohms())"
   ]
  },
  {
   "cell_type": "code",
   "execution_count": 5,
   "metadata": {},
   "outputs": [],
   "source": [
    "# Example 3\n",
    "r0.set_ohms(r0.get_ohms() - 4e3)\n",
    "assert r0.get_ohms() == 6e3"
   ]
  },
  {
   "cell_type": "code",
   "execution_count": 6,
   "metadata": {},
   "outputs": [],
   "source": [
    "# Example 4\n",
    "class Resistor:\n",
    "    def __init__(self, ohms):\n",
    "        self.ohms = ohms\n",
    "        self.voltage = 0\n",
    "        self.current = 0"
   ]
  },
  {
   "cell_type": "code",
   "execution_count": 7,
   "metadata": {},
   "outputs": [
    {
     "output_type": "stream",
     "name": "stdout",
     "text": [
      "10000.0 ohms, 0 volts, 0 amps\n"
     ]
    }
   ],
   "source": [
    "r1 = Resistor(50e3)\n",
    "r1.ohms = 10e3\n",
    "print(f'{r1.ohms} ohms, '\n",
    "      f'{r1.voltage} volts, '\n",
    "      f'{r1.current} amps')"
   ]
  },
  {
   "cell_type": "code",
   "execution_count": 8,
   "metadata": {},
   "outputs": [],
   "source": [
    "# Example 5\n",
    "r1.ohms += 5e3"
   ]
  },
  {
   "cell_type": "code",
   "execution_count": 9,
   "metadata": {},
   "outputs": [],
   "source": [
    "# Example 6\n",
    "class VoltageResistance(Resistor):\n",
    "    def __init__(self, ohms):\n",
    "        super().__init__(ohms)\n",
    "        self._voltage = 0\n",
    "\n",
    "    @property\n",
    "    def voltage(self):\n",
    "        return self._voltage\n",
    "\n",
    "    @voltage.setter\n",
    "    def voltage(self, voltage):\n",
    "        self._voltage = voltage\n",
    "        self.current = self._voltage / self.ohms"
   ]
  },
  {
   "cell_type": "code",
   "execution_count": 10,
   "metadata": {},
   "outputs": [
    {
     "output_type": "stream",
     "name": "stdout",
     "text": [
      "Before: 0.00 amps\nAfter:  0.01 amps\n"
     ]
    }
   ],
   "source": [
    "# Example 7\n",
    "r2 = VoltageResistance(1e3)\n",
    "print(f'Before: {r2.current:.2f} amps')\n",
    "r2.voltage = 10\n",
    "print(f'After:  {r2.current:.2f} amps')"
   ]
  },
  {
   "cell_type": "code",
   "execution_count": 12,
   "metadata": {},
   "outputs": [],
   "source": [
    "# Example 8\n",
    "class BoundedResistance(Resistor):\n",
    "    def __init__(self, ohms):\n",
    "        super().__init__(ohms)\n",
    "\n",
    "    @property\n",
    "    def ohms(self):\n",
    "        return self._ohms\n",
    "\n",
    "    @ohms.setter\n",
    "    def ohms(self, ohms):\n",
    "        if ohms <= 0:\n",
    "            raise ValueError(f'ohms must be > 0; got {ohms}')\n",
    "        self._ohms = ohms"
   ]
  },
  {
   "cell_type": "code",
   "execution_count": 13,
   "metadata": {},
   "outputs": [
    {
     "output_type": "stream",
     "name": "stderr",
     "text": [
      "ERROR:root:Expected\nTraceback (most recent call last):\n  File \"<ipython-input-13-feb3fdcaa7ef>\", line 4, in <module>\n    r3.ohms = 0\n  File \"<ipython-input-12-643b7843b0a2>\", line 13, in ohms\n    raise ValueError(f'ohms must be > 0; got {ohms}')\nValueError: ohms must be > 0; got 0\n"
     ]
    }
   ],
   "source": [
    "# Example 9\n",
    "try:\n",
    "    r3 = BoundedResistance(1e3)\n",
    "    r3.ohms = 0\n",
    "except:\n",
    "    logging.exception('Expected')\n",
    "else:\n",
    "    assert False"
   ]
  },
  {
   "cell_type": "code",
   "execution_count": 14,
   "metadata": {},
   "outputs": [
    {
     "output_type": "stream",
     "name": "stderr",
     "text": [
      "ERROR:root:Expected\nTraceback (most recent call last):\n  File \"<ipython-input-14-30545da48fc1>\", line 3, in <module>\n    BoundedResistance(-5)\n  File \"<ipython-input-12-643b7843b0a2>\", line 4, in __init__\n    super().__init__(ohms)\n  File \"<ipython-input-6-4d31284e5b42>\", line 4, in __init__\n    self.ohms = ohms\n  File \"<ipython-input-12-643b7843b0a2>\", line 13, in ohms\n    raise ValueError(f'ohms must be > 0; got {ohms}')\nValueError: ohms must be > 0; got -5\n"
     ]
    }
   ],
   "source": [
    "# Example 10\n",
    "try:\n",
    "    BoundedResistance(-5)\n",
    "except:\n",
    "    logging.exception('Expected')\n",
    "else:\n",
    "    assert False"
   ]
  },
  {
   "cell_type": "code",
   "execution_count": 15,
   "metadata": {},
   "outputs": [],
   "source": [
    "# Example 11\n",
    "class FixedResistance(Resistor):\n",
    "    def __init__(self, ohms):\n",
    "        super().__init__(ohms)\n",
    "\n",
    "    @property\n",
    "    def ohms(self):\n",
    "        return self._ohms\n",
    "\n",
    "    @ohms.setter\n",
    "    def ohms(self, ohms):\n",
    "        if hasattr(self, '_ohms'):\n",
    "            raise AttributeError(\"Ohms is immutable\")\n",
    "        self._ohms = ohms"
   ]
  },
  {
   "cell_type": "code",
   "execution_count": 16,
   "metadata": {},
   "outputs": [
    {
     "output_type": "stream",
     "name": "stderr",
     "text": [
      "ERROR:root:Expected\nTraceback (most recent call last):\n  File \"<ipython-input-16-87bc028a3923>\", line 4, in <module>\n    r4.ohms = 2e3\n  File \"<ipython-input-15-7d7176a0cbc2>\", line 13, in ohms\n    raise AttributeError(\"Ohms is immutable\")\nAttributeError: Ohms is immutable\n"
     ]
    }
   ],
   "source": [
    "# Example 12\n",
    "try:\n",
    "    r4 = FixedResistance(1e3)\n",
    "    r4.ohms = 2e3\n",
    "except:\n",
    "    logging.exception('Expected')\n",
    "else:\n",
    "    assert False"
   ]
  },
  {
   "cell_type": "code",
   "execution_count": 17,
   "metadata": {},
   "outputs": [],
   "source": [
    "# Example 13\n",
    "class MysteriousResistor(Resistor):\n",
    "    @property\n",
    "    def ohms(self):\n",
    "        self.voltage = self._ohms * self.current\n",
    "        return self._ohms\n",
    "\n",
    "    @ohms.setter\n",
    "    def ohms(self, ohms):\n",
    "        self._ohms = ohms"
   ]
  },
  {
   "cell_type": "code",
   "execution_count": 18,
   "metadata": {},
   "outputs": [
    {
     "output_type": "stream",
     "name": "stdout",
     "text": [
      "Before: 0.00\nAfter:  0.10\n"
     ]
    }
   ],
   "source": [
    "# Example 14\n",
    "r7 = MysteriousResistor(10)\n",
    "r7.current = 0.01\n",
    "print(f'Before: {r7.voltage:.2f}')\n",
    "r7.ohms\n",
    "print(f'After:  {r7.voltage:.2f}')"
   ]
  },
  {
   "cell_type": "code",
   "execution_count": null,
   "metadata": {},
   "outputs": [],
   "source": []
  }
 ]
}