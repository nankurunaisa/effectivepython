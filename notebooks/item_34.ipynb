{
 "metadata": {
  "language_info": {
   "codemirror_mode": {
    "name": "ipython",
    "version": 3
   },
   "file_extension": ".py",
   "mimetype": "text/x-python",
   "name": "python",
   "nbconvert_exporter": "python",
   "pygments_lexer": "ipython3",
   "version": "3.8.5-final"
  },
  "orig_nbformat": 2,
  "kernelspec": {
   "name": "python3",
   "display_name": "Python 3.8.5 64-bit ('.venv': venv)",
   "metadata": {
    "interpreter": {
     "hash": "73bbdec3959fe17c5cd1a7f08d0a8ad0cc33e165356ce763e8b97eb7675ac8c7"
    }
   }
  }
 },
 "nbformat": 4,
 "nbformat_minor": 2,
 "cells": [
  {
   "cell_type": "code",
   "execution_count": 1,
   "metadata": {},
   "outputs": [
    {
     "output_type": "execute_result",
     "data": {
      "text/plain": [
       "<function __main__.close_open_files()>"
      ]
     },
     "metadata": {},
     "execution_count": 1
    }
   ],
   "source": [
    "#!/usr/bin/env PYTHONHASHSEED=1234 python3\n",
    "\n",
    "# Copyright 2014-2019 Brett Slatkin, Pearson Education Inc.\n",
    "#\n",
    "# Licensed under the Apache License, Version 2.0 (the \"License\");\n",
    "# you may not use this file except in compliance with the License.\n",
    "# You may obtain a copy of the License at\n",
    "#\n",
    "#     http://www.apache.org/licenses/LICENSE-2.0\n",
    "#\n",
    "# Unless required by applicable law or agreed to in writing, software\n",
    "# distributed under the License is distributed on an \"AS IS\" BASIS,\n",
    "# WITHOUT WARRANTIES OR CONDITIONS OF ANY KIND, either express or implied.\n",
    "# See the License for the specific language governing permissions and\n",
    "# limitations under the License.\n",
    "\n",
    "# Reproduce book environment\n",
    "import random\n",
    "random.seed(1234)\n",
    "\n",
    "import logging\n",
    "from pprint import pprint\n",
    "from sys import stdout as STDOUT\n",
    "\n",
    "# Write all output to a temporary directory\n",
    "import atexit\n",
    "import gc\n",
    "import io\n",
    "import os\n",
    "import tempfile\n",
    "\n",
    "TEST_DIR = tempfile.TemporaryDirectory()\n",
    "atexit.register(TEST_DIR.cleanup)\n",
    "\n",
    "# Make sure Windows processes exit cleanly\n",
    "OLD_CWD = os.getcwd()\n",
    "atexit.register(lambda: os.chdir(OLD_CWD))\n",
    "os.chdir(TEST_DIR.name)\n",
    "\n",
    "def close_open_files():\n",
    "    everything = gc.get_objects()\n",
    "    for obj in everything:\n",
    "        if isinstance(obj, io.IOBase):\n",
    "            obj.close()\n",
    "\n",
    "atexit.register(close_open_files)"
   ]
  },
  {
   "cell_type": "code",
   "execution_count": 2,
   "metadata": {},
   "outputs": [],
   "source": [
    "# Example 1\n",
    "import math\n",
    "\n",
    "def wave(amplitude, steps):\n",
    "    step_size = 2 * math.pi / steps\n",
    "    for step in range(steps):\n",
    "        radians = step * step_size\n",
    "        fraction = math.sin(radians)\n",
    "        output = amplitude * fraction\n",
    "        yield output"
   ]
  },
  {
   "cell_type": "code",
   "execution_count": 3,
   "metadata": {},
   "outputs": [
    {
     "output_type": "stream",
     "name": "stdout",
     "text": [
      "Output:   0.0\nOutput:   2.1\nOutput:   3.0\nOutput:   2.1\nOutput:   0.0\nOutput:  -2.1\nOutput:  -3.0\nOutput:  -2.1\n"
     ]
    }
   ],
   "source": [
    "# Example 2\n",
    "def transmit(output):\n",
    "    if output is None:\n",
    "        print(f'Output is None')\n",
    "    else:\n",
    "        print(f'Output: {output:>5.1f}')\n",
    "\n",
    "def run(it):\n",
    "    for output in it:\n",
    "        transmit(output)\n",
    "\n",
    "run(wave(3.0, 8))"
   ]
  },
  {
   "cell_type": "code",
   "execution_count": 4,
   "metadata": {},
   "outputs": [
    {
     "output_type": "stream",
     "name": "stdout",
     "text": [
      "output = 1\nreceived = None\n"
     ]
    }
   ],
   "source": [
    "# Example 3\n",
    "def my_generator():\n",
    "    received = yield 1\n",
    "    print(f'received = {received}')\n",
    "\n",
    "it = my_generator()\n",
    "output = next(it)       # Get first generator output\n",
    "print(f'output = {output}')\n",
    "\n",
    "try:\n",
    "    next(it)            # Run generator until it exits\n",
    "except StopIteration:\n",
    "    pass\n",
    "else:\n",
    "    assert False"
   ]
  },
  {
   "cell_type": "code",
   "execution_count": 5,
   "metadata": {},
   "outputs": [
    {
     "output_type": "stream",
     "name": "stdout",
     "text": [
      "output = 1\nreceived = hello!\n"
     ]
    }
   ],
   "source": [
    "# Example 4\n",
    "it = my_generator()\n",
    "output = it.send(None)  # Get first generator output\n",
    "print(f'output = {output}')\n",
    "\n",
    "try:\n",
    "    it.send('hello!')   # Send value into the generator\n",
    "except StopIteration:\n",
    "    pass\n",
    "else:\n",
    "    assert False"
   ]
  },
  {
   "cell_type": "code",
   "execution_count": 6,
   "metadata": {},
   "outputs": [],
   "source": [
    "# Example 5\n",
    "def wave_modulating(steps):\n",
    "    step_size = 2 * math.pi / steps\n",
    "    amplitude = yield             # Receive initial amplitude\n",
    "    for step in range(steps):\n",
    "        radians = step * step_size\n",
    "        fraction = math.sin(radians)\n",
    "        output = amplitude * fraction\n",
    "        amplitude = yield output  # Receive next amplitude"
   ]
  },
  {
   "cell_type": "code",
   "execution_count": 7,
   "metadata": {},
   "outputs": [
    {
     "output_type": "stream",
     "name": "stdout",
     "text": [
      "Output is None\nOutput:   0.0\nOutput:   3.5\nOutput:   6.1\nOutput:   2.0\nOutput:   1.7\nOutput:   1.0\nOutput:   0.0\nOutput:  -5.0\nOutput:  -8.7\nOutput: -10.0\nOutput:  -8.7\nOutput:  -5.0\n"
     ]
    }
   ],
   "source": [
    "# Example 6\n",
    "def run_modulating(it):\n",
    "    amplitudes = [\n",
    "        None, 7, 7, 7, 2, 2, 2, 2, 10, 10, 10, 10, 10]\n",
    "    for amplitude in amplitudes:\n",
    "        output = it.send(amplitude)\n",
    "        transmit(output)\n",
    "\n",
    "run_modulating(wave_modulating(12))"
   ]
  },
  {
   "cell_type": "code",
   "execution_count": 8,
   "metadata": {},
   "outputs": [
    {
     "output_type": "stream",
     "name": "stdout",
     "text": [
      "Output:   0.0\nOutput:   6.1\nOutput:  -6.1\nOutput:   0.0\nOutput:   2.0\nOutput:   0.0\nOutput:  -2.0\nOutput:   0.0\nOutput:   9.5\nOutput:   5.9\nOutput:  -5.9\nOutput:  -9.5\n"
     ]
    }
   ],
   "source": [
    "# Example 7\n",
    "def complex_wave():\n",
    "    yield from wave(7.0, 3)\n",
    "    yield from wave(2.0, 4)\n",
    "    yield from wave(10.0, 5)\n",
    "\n",
    "run(complex_wave())"
   ]
  },
  {
   "cell_type": "code",
   "execution_count": 9,
   "metadata": {},
   "outputs": [
    {
     "output_type": "stream",
     "name": "stdout",
     "text": [
      "Output is None\nOutput:   0.0\nOutput:   6.1\nOutput:  -6.1\nOutput is None\nOutput:   0.0\nOutput:   2.0\nOutput:   0.0\nOutput: -10.0\nOutput is None\nOutput:   0.0\nOutput:   9.5\nOutput:   5.9\n"
     ]
    }
   ],
   "source": [
    "# Example 8\n",
    "def complex_wave_modulating():\n",
    "    yield from wave_modulating(3)\n",
    "    yield from wave_modulating(4)\n",
    "    yield from wave_modulating(5)\n",
    "\n",
    "run_modulating(complex_wave_modulating())"
   ]
  },
  {
   "cell_type": "code",
   "execution_count": 10,
   "metadata": {},
   "outputs": [],
   "source": [
    "# Example 9\n",
    "def wave_cascading(amplitude_it, steps):\n",
    "    step_size = 2 * math.pi / steps\n",
    "    for step in range(steps):\n",
    "        radians = step * step_size\n",
    "        fraction = math.sin(radians)\n",
    "        amplitude = next(amplitude_it)  # Get next input\n",
    "        output = amplitude * fraction\n",
    "        yield output"
   ]
  },
  {
   "cell_type": "code",
   "execution_count": 11,
   "metadata": {},
   "outputs": [],
   "source": [
    "# Example 10\n",
    "def complex_wave_cascading(amplitude_it):\n",
    "    yield from wave_cascading(amplitude_it, 3)\n",
    "    yield from wave_cascading(amplitude_it, 4)\n",
    "    yield from wave_cascading(amplitude_it, 5)"
   ]
  },
  {
   "cell_type": "code",
   "execution_count": 12,
   "metadata": {},
   "outputs": [
    {
     "output_type": "stream",
     "name": "stdout",
     "text": [
      "Output:   0.0\nOutput:   6.1\nOutput:  -6.1\nOutput:   0.0\nOutput:   2.0\nOutput:   0.0\nOutput:  -2.0\nOutput:   0.0\nOutput:   9.5\nOutput:   5.9\nOutput:  -5.9\nOutput:  -9.5\n"
     ]
    }
   ],
   "source": [
    "# Example 11\n",
    "def run_cascading():\n",
    "    amplitudes = [7, 7, 7, 2, 2, 2, 2, 10, 10, 10, 10, 10]\n",
    "    it = complex_wave_cascading(iter(amplitudes))\n",
    "    for amplitude in amplitudes:\n",
    "        output = next(it)\n",
    "        transmit(output)\n",
    "\n",
    "run_cascading()"
   ]
  },
  {
   "cell_type": "code",
   "execution_count": null,
   "metadata": {},
   "outputs": [],
   "source": []
  }
 ]
}