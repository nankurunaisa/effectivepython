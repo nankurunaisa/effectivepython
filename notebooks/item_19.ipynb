{
 "metadata": {
  "language_info": {
   "codemirror_mode": {
    "name": "ipython",
    "version": 3
   },
   "file_extension": ".py",
   "mimetype": "text/x-python",
   "name": "python",
   "nbconvert_exporter": "python",
   "pygments_lexer": "ipython3",
   "version": "3.8.5-final"
  },
  "orig_nbformat": 2,
  "kernelspec": {
   "name": "python3",
   "display_name": "Python 3.8.5 64-bit ('.venv': venv)",
   "metadata": {
    "interpreter": {
     "hash": "73bbdec3959fe17c5cd1a7f08d0a8ad0cc33e165356ce763e8b97eb7675ac8c7"
    }
   }
  }
 },
 "nbformat": 4,
 "nbformat_minor": 2,
 "cells": [
  {
   "cell_type": "code",
   "execution_count": 1,
   "metadata": {},
   "outputs": [
    {
     "output_type": "execute_result",
     "data": {
      "text/plain": [
       "<function __main__.close_open_files()>"
      ]
     },
     "metadata": {},
     "execution_count": 1
    }
   ],
   "source": [
    "#!/usr/bin/env PYTHONHASHSEED=1234 python3\n",
    "\n",
    "# Copyright 2014-2019 Brett Slatkin, Pearson Education Inc.\n",
    "#\n",
    "# Licensed under the Apache License, Version 2.0 (the \"License\");\n",
    "# you may not use this file except in compliance with the License.\n",
    "# You may obtain a copy of the License at\n",
    "#\n",
    "#     http://www.apache.org/licenses/LICENSE-2.0\n",
    "#\n",
    "# Unless required by applicable law or agreed to in writing, software\n",
    "# distributed under the License is distributed on an \"AS IS\" BASIS,\n",
    "# WITHOUT WARRANTIES OR CONDITIONS OF ANY KIND, either express or implied.\n",
    "# See the License for the specific language governing permissions and\n",
    "# limitations under the License.\n",
    "\n",
    "# Reproduce book environment\n",
    "import random\n",
    "random.seed(1234)\n",
    "\n",
    "import logging\n",
    "from pprint import pprint\n",
    "from sys import stdout as STDOUT\n",
    "\n",
    "# Write all output to a temporary directory\n",
    "import atexit\n",
    "import gc\n",
    "import io\n",
    "import os\n",
    "import tempfile\n",
    "\n",
    "TEST_DIR = tempfile.TemporaryDirectory()\n",
    "atexit.register(TEST_DIR.cleanup)\n",
    "\n",
    "# Make sure Windows processes exit cleanly\n",
    "OLD_CWD = os.getcwd()\n",
    "atexit.register(lambda: os.chdir(OLD_CWD))\n",
    "os.chdir(TEST_DIR.name)\n",
    "\n",
    "def close_open_files():\n",
    "    everything = gc.get_objects()\n",
    "    for obj in everything:\n",
    "        if isinstance(obj, io.IOBase):\n",
    "            obj.close()\n",
    "\n",
    "atexit.register(close_open_files)"
   ]
  },
  {
   "cell_type": "code",
   "execution_count": 4,
   "metadata": {},
   "outputs": [
    {
     "output_type": "stream",
     "name": "stdout",
     "text": [
      "Min: 60, Max: 73\n"
     ]
    }
   ],
   "source": [
    "# Example 1\n",
    "def get_stats(numbers):\n",
    "    minimum = min(numbers)\n",
    "    maximum = max(numbers)\n",
    "    return minimum, maximum\n",
    "\n",
    "lengths = [63, 73, 72, 60, 67, 66, 71, 61, 72, 70]\n",
    "\n",
    "minimum, maximum = get_stats(lengths)  # Two return values\n",
    "\n",
    "print(f'Min: {minimum}, Max: {maximum}')"
   ]
  },
  {
   "cell_type": "code",
   "execution_count": 5,
   "metadata": {},
   "outputs": [],
   "source": [
    "# Example 2\n",
    "first, second = 1, 2\n",
    "assert first == 1\n",
    "assert second == 2\n",
    "\n",
    "def my_function():\n",
    "    return 1, 2\n",
    "\n",
    "first, second = my_function()\n",
    "assert first == 1\n",
    "assert second == 2"
   ]
  },
  {
   "cell_type": "code",
   "execution_count": 7,
   "metadata": {},
   "outputs": [
    {
     "output_type": "stream",
     "name": "stdout",
     "text": [
      "Longest:  108%\nShortest:  89%\n"
     ]
    }
   ],
   "source": [
    "# Example 3\n",
    "def get_avg_ratio(numbers):\n",
    "    average = sum(numbers) / len(numbers)\n",
    "    scaled = [x / average for x in numbers]\n",
    "    scaled.sort(reverse=True)\n",
    "    return scaled\n",
    "\n",
    "longest, *middle, shortest = get_avg_ratio(lengths)\n",
    "\n",
    "print(f'Longest:  {longest:>4.0%}')\n",
    "print(f'Shortest: {shortest:>4.0%}')"
   ]
  },
  {
   "cell_type": "code",
   "execution_count": 9,
   "metadata": {},
   "outputs": [
    {
     "output_type": "stream",
     "name": "stdout",
     "text": [
      "Min: 60, Max: 73\nAverage: 67.5, Median: 68.5, Count 10\n"
     ]
    }
   ],
   "source": [
    "# Example 4\n",
    "def get_stats(numbers):\n",
    "    minimum = min(numbers)\n",
    "    maximum = max(numbers)\n",
    "    count = len(numbers)\n",
    "    average = sum(numbers) / count\n",
    "\n",
    "    sorted_numbers = sorted(numbers)\n",
    "    middle = count // 2\n",
    "    if count % 2 == 0:\n",
    "        lower = sorted_numbers[middle - 1]\n",
    "        upper = sorted_numbers[middle]\n",
    "        median = (lower + upper) / 2\n",
    "    else:\n",
    "        median = sorted_numbers[middle]\n",
    "\n",
    "    return minimum, maximum, average, median, count\n",
    "\n",
    "minimum, maximum, average, median, count = get_stats(lengths)\n",
    "\n",
    "print(f'Min: {minimum}, Max: {maximum}')\n",
    "print(f'Average: {average}, Median: {median}, Count {count}')\n",
    "\n",
    "assert minimum == 60\n",
    "assert maximum == 73\n",
    "assert average == 67.5\n",
    "assert median == 68.5\n",
    "assert count == 10\n",
    "\n",
    "# Verify odd count median\n",
    "_, _, _, median, count = get_stats([1, 2, 3])\n",
    "assert median == 2\n",
    "assert count == 3"
   ]
  },
  {
   "cell_type": "code",
   "execution_count": 10,
   "metadata": {},
   "outputs": [],
   "source": [
    "# Example 5\n",
    "# Correct:\n",
    "minimum, maximum, average, median, count = get_stats(lengths)\n",
    "\n",
    "# Oops! Median and average swapped:\n",
    "minimum, maximum, median, average, count = get_stats(lengths)"
   ]
  },
  {
   "cell_type": "code",
   "execution_count": 11,
   "metadata": {},
   "outputs": [],
   "source": [
    "# Example 6\n",
    "minimum, maximum, average, median, count = get_stats(\n",
    "    lengths)\n",
    "\n",
    "minimum, maximum, average, median, count = \\\n",
    "    get_stats(lengths)\n",
    "\n",
    "(minimum, maximum, average,\n",
    " median, count) = get_stats(lengths)\n",
    "\n",
    "(minimum, maximum, average, median, count\n",
    "    ) = get_stats(lengths)"
   ]
  },
  {
   "cell_type": "code",
   "execution_count": null,
   "metadata": {},
   "outputs": [],
   "source": []
  }
 ]
}