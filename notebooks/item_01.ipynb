{
 "metadata": {
  "language_info": {
   "codemirror_mode": {
    "name": "ipython",
    "version": 3
   },
   "file_extension": ".py",
   "mimetype": "text/x-python",
   "name": "python",
   "nbconvert_exporter": "python",
   "pygments_lexer": "ipython3",
   "version": "3.7.8-final"
  },
  "orig_nbformat": 2,
  "kernelspec": {
   "name": "python3",
   "display_name": "Python 3.7.8 64-bit ('pyfund': conda)",
   "metadata": {
    "interpreter": {
     "hash": "f4cfa51a2cae783c6da3464a3f207b90eb885eaba5309c858356e2676eaf5388"
    }
   }
  }
 },
 "nbformat": 4,
 "nbformat_minor": 2,
 "cells": [
  {
   "cell_type": "code",
   "execution_count": 1,
   "metadata": {},
   "outputs": [
    {
     "output_type": "execute_result",
     "data": {
      "text/plain": [
       "<function __main__.close_open_files>"
      ]
     },
     "metadata": {},
     "execution_count": 1
    }
   ],
   "source": [
    "#!/usr/bin/env PYTHONHASHSEED=1234 python3\n",
    "\n",
    "# Copyright 2014-2019 Brett Slatkin, Pearson Education Inc.\n",
    "#\n",
    "# Licensed under the Apache License, Version 2.0 (the \"License\");\n",
    "# you may not use this file except in compliance with the License.\n",
    "# You may obtain a copy of the License at\n",
    "#\n",
    "#     http://www.apache.org/licenses/LICENSE-2.0\n",
    "#\n",
    "# Unless required by applicable law or agreed to in writing, software\n",
    "# distributed under the License is distributed on an \"AS IS\" BASIS,\n",
    "# WITHOUT WARRANTIES OR CONDITIONS OF ANY KIND, either express or implied.\n",
    "# See the License for the specific language governing permissions and\n",
    "# limitations under the License.\n",
    "\n",
    "# Reproduce book environment\n",
    "import random\n",
    "random.seed(1234)\n",
    "\n",
    "import logging\n",
    "from pprint import pprint\n",
    "from sys import stdout as STDOUT\n",
    "\n",
    "# Write all output to a temporary directory\n",
    "import atexit\n",
    "import gc\n",
    "import io\n",
    "import os\n",
    "import tempfile\n",
    "\n",
    "TEST_DIR = tempfile.TemporaryDirectory()\n",
    "atexit.register(TEST_DIR.cleanup)\n",
    "\n",
    "# Make sure Windows processes exit cleanly\n",
    "OLD_CWD = os.getcwd()\n",
    "atexit.register(lambda: os.chdir(OLD_CWD))\n",
    "os.chdir(TEST_DIR.name)\n",
    "\n",
    "def close_open_files():\n",
    "    everything = gc.get_objects()\n",
    "    for obj in everything:\n",
    "        if isinstance(obj, io.IOBase):\n",
    "            obj.close()\n",
    "\n",
    "atexit.register(close_open_files)\n"
   ]
  },
  {
   "cell_type": "code",
   "execution_count": 2,
   "metadata": {},
   "outputs": [
    {
     "output_type": "stream",
     "name": "stdout",
     "text": [
      "sys.version_info(major=3, minor=7, micro=8, releaselevel='final', serial=0)\n3.7.8 | packaged by conda-forge | (default, Nov 27 2020, 19:24:58) \n[GCC 9.3.0]\n"
     ]
    }
   ],
   "source": [
    "# Example 1\n",
    "import sys\n",
    "print(sys.version_info)\n",
    "print(sys.version)"
   ]
  },
  {
   "cell_type": "code",
   "execution_count": null,
   "metadata": {},
   "outputs": [],
   "source": []
  }
 ]
}