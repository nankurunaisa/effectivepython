{
 "metadata": {
  "language_info": {
   "codemirror_mode": {
    "name": "ipython",
    "version": 3
   },
   "file_extension": ".py",
   "mimetype": "text/x-python",
   "name": "python",
   "nbconvert_exporter": "python",
   "pygments_lexer": "ipython3",
   "version": "3.8.8-final"
  },
  "orig_nbformat": 2,
  "kernelspec": {
   "name": "python3",
   "display_name": "Python 3.8.8 64-bit ('py38': conda)",
   "metadata": {
    "interpreter": {
     "hash": "ccd487ed38572b3e19ef3faf0990f633e80ca0051bb31e2083bbae684677b431"
    }
   }
  }
 },
 "nbformat": 4,
 "nbformat_minor": 2,
 "cells": [
  {
   "cell_type": "code",
   "execution_count": 1,
   "metadata": {},
   "outputs": [
    {
     "output_type": "execute_result",
     "data": {
      "text/plain": [
       "<function __main__.close_open_files()>"
      ]
     },
     "metadata": {},
     "execution_count": 1
    }
   ],
   "source": [
    "#!/usr/bin/env PYTHONHASHSEED=1234 python3\n",
    "\n",
    "# Copyright 2014-2019 Brett Slatkin, Pearson Education Inc.\n",
    "#\n",
    "# Licensed under the Apache License, Version 2.0 (the \"License\");\n",
    "# you may not use this file except in compliance with the License.\n",
    "# You may obtain a copy of the License at\n",
    "#\n",
    "#     http://www.apache.org/licenses/LICENSE-2.0\n",
    "#\n",
    "# Unless required by applicable law or agreed to in writing, software\n",
    "# distributed under the License is distributed on an \"AS IS\" BASIS,\n",
    "# WITHOUT WARRANTIES OR CONDITIONS OF ANY KIND, either express or implied.\n",
    "# See the License for the specific language governing permissions and\n",
    "# limitations under the License.\n",
    "\n",
    "# Reproduce book environment\n",
    "import random\n",
    "random.seed(1234)\n",
    "\n",
    "import logging\n",
    "from pprint import pprint\n",
    "from sys import stdout as STDOUT\n",
    "\n",
    "# Write all output to a temporary directory\n",
    "import atexit\n",
    "import gc\n",
    "import io\n",
    "import os\n",
    "import tempfile\n",
    "\n",
    "TEST_DIR = tempfile.TemporaryDirectory()\n",
    "atexit.register(TEST_DIR.cleanup)\n",
    "\n",
    "# Make sure Windows processes exit cleanly\n",
    "OLD_CWD = os.getcwd()\n",
    "atexit.register(lambda: os.chdir(OLD_CWD))\n",
    "os.chdir(TEST_DIR.name)\n",
    "\n",
    "def close_open_files():\n",
    "    everything = gc.get_objects()\n",
    "    for obj in everything:\n",
    "        if isinstance(obj, io.IOBase):\n",
    "            obj.close()\n",
    "\n",
    "atexit.register(close_open_files)"
   ]
  },
  {
   "cell_type": "code",
   "execution_count": 2,
   "metadata": {},
   "outputs": [
    {
     "output_type": "stream",
     "name": "stdout",
     "text": [
      "Hello from the child!\n\n"
     ]
    }
   ],
   "source": [
    "# Example 1\n",
    "import subprocess\n",
    "# Enable these lines to make this example work on Windows\n",
    "# import os\n",
    "# os.environ['COMSPEC'] = 'powershell'\n",
    "\n",
    "result = subprocess.run(\n",
    "    ['echo', 'Hello from the child!'],\n",
    "    capture_output=True,\n",
    "    # Enable this line to make this example work on Windows\n",
    "    # shell=True,\n",
    "    encoding='utf-8')\n",
    "\n",
    "result.check_returncode()  # No exception means it exited cleanly\n",
    "print(result.stdout)"
   ]
  },
  {
   "cell_type": "code",
   "execution_count": 3,
   "metadata": {},
   "outputs": [
    {
     "output_type": "stream",
     "name": "stdout",
     "text": [
      "Working...\n",
      "Working...\n",
      "Working...\n",
      "Working...\n",
      "Exit status 0\n"
     ]
    }
   ],
   "source": [
    "# Example 2\n",
    "# Use this line instead to make this example work on Windows\n",
    "# proc = subprocess.Popen(['sleep', '1'], shell=True)\n",
    "proc = subprocess.Popen(['sleep', '1'])\n",
    "while proc.poll() is None:\n",
    "    print('Working...')\n",
    "    # Some time-consuming work here\n",
    "    import time\n",
    "    time.sleep(0.3)\n",
    "\n",
    "print('Exit status', proc.poll())"
   ]
  },
  {
   "cell_type": "code",
   "execution_count": 4,
   "metadata": {},
   "outputs": [],
   "source": [
    "# Example 3\n",
    "import time\n",
    "\n",
    "start = time.time()\n",
    "sleep_procs = []\n",
    "for _ in range(10):\n",
    "    # Use this line instead to make this example work on Windows\n",
    "    # proc = subprocess.Popen(['sleep', '1'], shell=True)\n",
    "    proc = subprocess.Popen(['sleep', '1'])\n",
    "    sleep_procs.append(proc)"
   ]
  },
  {
   "cell_type": "code",
   "execution_count": 5,
   "metadata": {},
   "outputs": [
    {
     "output_type": "stream",
     "name": "stdout",
     "text": [
      "Finished in 6.71 seconds\n"
     ]
    }
   ],
   "source": [
    "# Example 4\n",
    "for proc in sleep_procs:\n",
    "    proc.communicate()\n",
    "\n",
    "end = time.time()\n",
    "delta = end - start\n",
    "print(f'Finished in {delta:.3} seconds')"
   ]
  },
  {
   "cell_type": "code",
   "execution_count": 6,
   "metadata": {},
   "outputs": [],
   "source": [
    "# Example 5\n",
    "import os\n",
    "# On Windows, after installing OpenSSL, you may need to\n",
    "# alias it in your PowerShell path with a command like:\n",
    "# $env:path = $env:path + \";C:\\Program Files\\OpenSSL-Win64\\bin\"\n",
    "\n",
    "def run_encrypt(data):\n",
    "    env = os.environ.copy()\n",
    "    env['password'] = 'zf7ShyBhZOraQDdE/FiZpm/m/8f9X+M1'\n",
    "    proc = subprocess.Popen(\n",
    "        ['openssl', 'enc', '-des3', '-pass', 'env:password'],\n",
    "        env=env,\n",
    "        stdin=subprocess.PIPE,\n",
    "        stdout=subprocess.PIPE)\n",
    "    proc.stdin.write(data)\n",
    "    proc.stdin.flush()  # Ensure that the child gets input\n",
    "    return proc"
   ]
  },
  {
   "cell_type": "code",
   "execution_count": 7,
   "metadata": {},
   "outputs": [],
   "source": [
    "# Example 6\n",
    "procs = []\n",
    "for _ in range(3):\n",
    "    data = os.urandom(10)\n",
    "    proc = run_encrypt(data)\n",
    "    procs.append(proc)"
   ]
  },
  {
   "cell_type": "code",
   "execution_count": 8,
   "metadata": {},
   "outputs": [
    {
     "output_type": "stream",
     "name": "stdout",
     "text": [
      "b'b\\xc9\\x0c\\x83\\xae\\x90\\x8f\\xc1b\\x97'\nb'B\\xfc\\xc9A1\\xafE\\x19\\x97\\x8b'\nb'\\xcfm\\xe76\\xcb.\\xf3\\x86j\\xd5'\n"
     ]
    }
   ],
   "source": [
    "# Example 7\n",
    "for proc in procs:\n",
    "    out, _ = proc.communicate()\n",
    "    print(out[-10:])"
   ]
  },
  {
   "cell_type": "code",
   "execution_count": 9,
   "metadata": {},
   "outputs": [],
   "source": [
    "# Example 8\n",
    "def run_hash(input_stdin):\n",
    "    return subprocess.Popen(\n",
    "        ['openssl', 'dgst', '-whirlpool', '-binary'],\n",
    "        stdin=input_stdin,\n",
    "        stdout=subprocess.PIPE)"
   ]
  },
  {
   "cell_type": "code",
   "execution_count": 10,
   "metadata": {},
   "outputs": [],
   "source": [
    "# Example 9\n",
    "encrypt_procs = []\n",
    "hash_procs = []\n",
    "for _ in range(3):\n",
    "    data = os.urandom(100)\n",
    "\n",
    "    encrypt_proc = run_encrypt(data)\n",
    "    encrypt_procs.append(encrypt_proc)\n",
    "\n",
    "    hash_proc = run_hash(encrypt_proc.stdout)\n",
    "    hash_procs.append(hash_proc)\n",
    "\n",
    "    # Ensure that the child consumes the input stream and\n",
    "    # the communicate() method doesn't inadvertently steal\n",
    "    # input from the child. Also lets SIGPIPE propagate to\n",
    "    # the upstream process if the downstream process dies.\n",
    "    encrypt_proc.stdout.close()\n",
    "    encrypt_proc.stdout = None"
   ]
  },
  {
   "cell_type": "code",
   "execution_count": 11,
   "metadata": {},
   "outputs": [
    {
     "output_type": "stream",
     "name": "stdout",
     "text": [
      "b'=\\x00\\x94\\x12u\\xcb\\xf1\\x07\\x1d\\xb3'\nb'\\x95y\\x17\\x1b\\xc0\\xc1\\x13\\x89\\xd6$'\nb'b^.TZ\\x8b\\x02i\\xd1J'\n"
     ]
    }
   ],
   "source": [
    "# Example 10\n",
    "for proc in encrypt_procs:\n",
    "    proc.communicate()\n",
    "    assert proc.returncode == 0\n",
    "\n",
    "for proc in hash_procs:\n",
    "    out, _ = proc.communicate()\n",
    "    print(out[-10:])\n",
    "    assert proc.returncode == 0"
   ]
  },
  {
   "cell_type": "code",
   "execution_count": 12,
   "metadata": {},
   "outputs": [
    {
     "output_type": "stream",
     "name": "stdout",
     "text": [
      "Exit status -15\n"
     ]
    }
   ],
   "source": [
    "# Example 11\n",
    "# Use this line instead to make this example work on Windows\n",
    "# proc = subprocess.Popen(['sleep', '10'], shell=True)\n",
    "proc = subprocess.Popen(['sleep', '10'])\n",
    "try:\n",
    "    proc.communicate(timeout=0.1)\n",
    "except subprocess.TimeoutExpired:\n",
    "    proc.terminate()\n",
    "    proc.wait()\n",
    "\n",
    "print('Exit status', proc.poll())"
   ]
  },
  {
   "cell_type": "code",
   "execution_count": null,
   "metadata": {},
   "outputs": [],
   "source": []
  }
 ]
}