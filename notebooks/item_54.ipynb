{
 "metadata": {
  "language_info": {
   "codemirror_mode": {
    "name": "ipython",
    "version": 3
   },
   "file_extension": ".py",
   "mimetype": "text/x-python",
   "name": "python",
   "nbconvert_exporter": "python",
   "pygments_lexer": "ipython3",
   "version": "3.8.8-final"
  },
  "orig_nbformat": 2,
  "kernelspec": {
   "name": "python3",
   "display_name": "Python 3.8.8 64-bit ('py38': conda)",
   "metadata": {
    "interpreter": {
     "hash": "ccd487ed38572b3e19ef3faf0990f633e80ca0051bb31e2083bbae684677b431"
    }
   }
  }
 },
 "nbformat": 4,
 "nbformat_minor": 2,
 "cells": [
  {
   "cell_type": "code",
   "execution_count": 1,
   "metadata": {},
   "outputs": [
    {
     "output_type": "execute_result",
     "data": {
      "text/plain": [
       "<function __main__.close_open_files()>"
      ]
     },
     "metadata": {},
     "execution_count": 1
    }
   ],
   "source": [
    "#!/usr/bin/env PYTHONHASHSEED=1234 python3\n",
    "\n",
    "# Copyright 2014-2019 Brett Slatkin, Pearson Education Inc.\n",
    "#\n",
    "# Licensed under the Apache License, Version 2.0 (the \"License\");\n",
    "# you may not use this file except in compliance with the License.\n",
    "# You may obtain a copy of the License at\n",
    "#\n",
    "#     http://www.apache.org/licenses/LICENSE-2.0\n",
    "#\n",
    "# Unless required by applicable law or agreed to in writing, software\n",
    "# distributed under the License is distributed on an \"AS IS\" BASIS,\n",
    "# WITHOUT WARRANTIES OR CONDITIONS OF ANY KIND, either express or implied.\n",
    "# See the License for the specific language governing permissions and\n",
    "# limitations under the License.\n",
    "\n",
    "# Reproduce book environment\n",
    "import random\n",
    "random.seed(1234)\n",
    "\n",
    "import logging\n",
    "from pprint import pprint\n",
    "from sys import stdout as STDOUT\n",
    "\n",
    "# Write all output to a temporary directory\n",
    "import atexit\n",
    "import gc\n",
    "import io\n",
    "import os\n",
    "import tempfile\n",
    "\n",
    "TEST_DIR = tempfile.TemporaryDirectory()\n",
    "atexit.register(TEST_DIR.cleanup)\n",
    "\n",
    "# Make sure Windows processes exit cleanly\n",
    "OLD_CWD = os.getcwd()\n",
    "atexit.register(lambda: os.chdir(OLD_CWD))\n",
    "os.chdir(TEST_DIR.name)\n",
    "\n",
    "def close_open_files():\n",
    "    everything = gc.get_objects()\n",
    "    for obj in everything:\n",
    "        if isinstance(obj, io.IOBase):\n",
    "            obj.close()\n",
    "\n",
    "atexit.register(close_open_files)"
   ]
  },
  {
   "cell_type": "code",
   "execution_count": 2,
   "metadata": {},
   "outputs": [],
   "source": [
    "# Example 1\n",
    "class Counter:\n",
    "    def __init__(self):\n",
    "        self.count = 0\n",
    "\n",
    "    def increment(self, offset):\n",
    "        self.count += offset"
   ]
  },
  {
   "cell_type": "code",
   "execution_count": 3,
   "metadata": {},
   "outputs": [],
   "source": [
    "# Example 2\n",
    "def worker(sensor_index, how_many, counter):\n",
    "    # I have a barrier in here so the workers synchronize\n",
    "    # when they start counting, otherwise it's hard to get a race\n",
    "    # because the overhead of starting a thread is high.\n",
    "    BARRIER.wait()\n",
    "    for _ in range(how_many):\n",
    "        # Read from the sensor\n",
    "        # Nothing actually happens here, but this is where\n",
    "        # the blocking I/O would go.\n",
    "        counter.increment(1)"
   ]
  },
  {
   "cell_type": "code",
   "execution_count": 4,
   "metadata": {},
   "outputs": [
    {
     "output_type": "stream",
     "name": "stdout",
     "text": [
      "Counter should be 500000, got 184894\n"
     ]
    }
   ],
   "source": [
    "# Example 3\n",
    "from threading import Barrier\n",
    "BARRIER = Barrier(5)\n",
    "from threading import Thread\n",
    "\n",
    "how_many = 10**5\n",
    "counter = Counter()\n",
    "\n",
    "threads = []\n",
    "for i in range(5):\n",
    "    thread = Thread(target=worker,\n",
    "                    args=(i, how_many, counter))\n",
    "    threads.append(thread)\n",
    "    thread.start()\n",
    "\n",
    "for thread in threads:\n",
    "    thread.join()\n",
    "\n",
    "expected = how_many * 5\n",
    "found = counter.count\n",
    "print(f'Counter should be {expected}, got {found}')"
   ]
  },
  {
   "cell_type": "code",
   "execution_count": 5,
   "metadata": {},
   "outputs": [],
   "source": [
    "# Example 4\n",
    "counter.count += 1"
   ]
  },
  {
   "cell_type": "code",
   "execution_count": 6,
   "metadata": {},
   "outputs": [],
   "source": [
    "# Example 5\n",
    "value = getattr(counter, 'count')\n",
    "result = value + 1\n",
    "setattr(counter, 'count', result)"
   ]
  },
  {
   "cell_type": "code",
   "execution_count": 7,
   "metadata": {},
   "outputs": [],
   "source": [
    "# Example 6\n",
    "# Running in Thread A\n",
    "value_a = getattr(counter, 'count')\n",
    "# Context switch to Thread B\n",
    "value_b = getattr(counter, 'count')\n",
    "result_b = value_b + 1\n",
    "setattr(counter, 'count', result_b)\n",
    "# Context switch back to Thread A\n",
    "result_a = value_a + 1\n",
    "setattr(counter, 'count', result_a)"
   ]
  },
  {
   "cell_type": "code",
   "execution_count": 8,
   "metadata": {},
   "outputs": [],
   "source": [
    "# Example 7\n",
    "from threading import Lock\n",
    "\n",
    "class LockingCounter:\n",
    "    def __init__(self):\n",
    "        self.lock = Lock()\n",
    "        self.count = 0\n",
    "\n",
    "    def increment(self, offset):\n",
    "        with self.lock:\n",
    "            self.count += offset"
   ]
  },
  {
   "cell_type": "code",
   "execution_count": 9,
   "metadata": {},
   "outputs": [
    {
     "output_type": "stream",
     "name": "stdout",
     "text": [
      "Counter should be 500000, got 500000\n"
     ]
    }
   ],
   "source": [
    "# Example 8\n",
    "BARRIER = Barrier(5)\n",
    "counter = LockingCounter()\n",
    "\n",
    "for i in range(5):\n",
    "    thread = Thread(target=worker,\n",
    "                    args=(i, how_many, counter))\n",
    "    threads.append(thread)\n",
    "    thread.start()\n",
    "\n",
    "for thread in threads:\n",
    "    thread.join()\n",
    "\n",
    "expected = how_many * 5\n",
    "found = counter.count\n",
    "print(f'Counter should be {expected}, got {found}')"
   ]
  },
  {
   "cell_type": "code",
   "execution_count": null,
   "metadata": {},
   "outputs": [],
   "source": []
  }
 ]
}