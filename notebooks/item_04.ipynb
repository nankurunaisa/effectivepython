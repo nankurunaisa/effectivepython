{
 "metadata": {
  "language_info": {
   "codemirror_mode": {
    "name": "ipython",
    "version": 3
   },
   "file_extension": ".py",
   "mimetype": "text/x-python",
   "name": "python",
   "nbconvert_exporter": "python",
   "pygments_lexer": "ipython3",
   "version": "3.7.8-final"
  },
  "orig_nbformat": 2,
  "kernelspec": {
   "name": "python3",
   "display_name": "Python 3.7.8 64-bit ('pyfund': conda)",
   "metadata": {
    "interpreter": {
     "hash": "f4cfa51a2cae783c6da3464a3f207b90eb885eaba5309c858356e2676eaf5388"
    }
   }
  }
 },
 "nbformat": 4,
 "nbformat_minor": 2,
 "cells": [
  {
   "cell_type": "code",
   "execution_count": 1,
   "metadata": {},
   "outputs": [
    {
     "output_type": "execute_result",
     "data": {
      "text/plain": [
       "<function __main__.close_open_files>"
      ]
     },
     "metadata": {},
     "execution_count": 1
    }
   ],
   "source": [
    "#!/usr/bin/env PYTHONHASHSEED=1234 python3\n",
    "\n",
    "# Copyright 2014-2019 Brett Slatkin, Pearson Education Inc.\n",
    "#\n",
    "# Licensed under the Apache License, Version 2.0 (the \"License\");\n",
    "# you may not use this file except in compliance with the License.\n",
    "# You may obtain a copy of the License at\n",
    "#\n",
    "#     http://www.apache.org/licenses/LICENSE-2.0\n",
    "#\n",
    "# Unless required by applicable law or agreed to in writing, software\n",
    "# distributed under the License is distributed on an \"AS IS\" BASIS,\n",
    "# WITHOUT WARRANTIES OR CONDITIONS OF ANY KIND, either express or implied.\n",
    "# See the License for the specific language governing permissions and\n",
    "# limitations under the License.\n",
    "\n",
    "# Reproduce book environment\n",
    "import random\n",
    "random.seed(1234)\n",
    "\n",
    "import logging\n",
    "from pprint import pprint\n",
    "from sys import stdout as STDOUT\n",
    "\n",
    "# Write all output to a temporary directory\n",
    "import atexit\n",
    "import gc\n",
    "import io\n",
    "import os\n",
    "import tempfile\n",
    "\n",
    "TEST_DIR = tempfile.TemporaryDirectory()\n",
    "atexit.register(TEST_DIR.cleanup)\n",
    "\n",
    "# Make sure Windows processes exit cleanly\n",
    "OLD_CWD = os.getcwd()\n",
    "atexit.register(lambda: os.chdir(OLD_CWD))\n",
    "os.chdir(TEST_DIR.name)\n",
    "\n",
    "def close_open_files():\n",
    "    everything = gc.get_objects()\n",
    "    for obj in everything:\n",
    "        if isinstance(obj, io.IOBase):\n",
    "            obj.close()\n",
    "\n",
    "atexit.register(close_open_files)"
   ]
  },
  {
   "cell_type": "code",
   "execution_count": 2,
   "metadata": {},
   "outputs": [
    {
     "output_type": "stream",
     "name": "stdout",
     "text": [
      "Binary is 187, hex is 3167\n"
     ]
    }
   ],
   "source": [
    "# Example 1\n",
    "a = 0b10111011\n",
    "b = 0xc5f\n",
    "print('Binary is %d, hex is %d' % (a, b))"
   ]
  },
  {
   "cell_type": "code",
   "execution_count": 3,
   "metadata": {},
   "outputs": [
    {
     "output_type": "stream",
     "name": "stdout",
     "text": [
      "my_var     = 1.23\n"
     ]
    }
   ],
   "source": [
    "# Example 2\n",
    "key = 'my_var'\n",
    "value = 1.234\n",
    "formatted = '%-10s = %.2f' % (key, value)\n",
    "print(formatted)"
   ]
  },
  {
   "cell_type": "code",
   "execution_count": 4,
   "metadata": {},
   "outputs": [
    {
     "output_type": "stream",
     "name": "stderr",
     "text": [
      "ERROR:root:Expected\nTraceback (most recent call last):\n  File \"<ipython-input-4-2272d6c97575>\", line 3, in <module>\n    reordered_tuple = '%-10s = %.2f' % (value, key)\nTypeError: must be real number, not str\n"
     ]
    }
   ],
   "source": [
    "# Example 3\n",
    "try:\n",
    "    reordered_tuple = '%-10s = %.2f' % (value, key)\n",
    "except:\n",
    "    logging.exception('Expected')\n",
    "else:\n",
    "    assert False"
   ]
  },
  {
   "cell_type": "code",
   "execution_count": 5,
   "metadata": {},
   "outputs": [
    {
     "output_type": "stream",
     "name": "stderr",
     "text": [
      "ERROR:root:Expected\nTraceback (most recent call last):\n  File \"<ipython-input-5-a4bbd20ecf97>\", line 3, in <module>\n    reordered_string = '%.2f = %-10s' % (key, value)\nTypeError: must be real number, not str\n"
     ]
    }
   ],
   "source": [
    "# Example 4\n",
    "try:\n",
    "    reordered_string = '%.2f = %-10s' % (key, value)\n",
    "except:\n",
    "    logging.exception('Expected')\n",
    "else:\n",
    "    assert False"
   ]
  },
  {
   "cell_type": "code",
   "execution_count": 6,
   "metadata": {},
   "outputs": [
    {
     "output_type": "stream",
     "name": "stdout",
     "text": [
      "#0: avocados   = 1.25\n#1: bananas    = 2.50\n#2: cherries   = 15.00\n"
     ]
    }
   ],
   "source": [
    "# Example 5\n",
    "pantry = [\n",
    "    ('avocados', 1.25),\n",
    "    ('bananas', 2.5),\n",
    "    ('cherries', 15),\n",
    "]\n",
    "for i, (item, count) in enumerate(pantry):\n",
    "    print('#%d: %-10s = %.2f' % (i, item, count))"
   ]
  },
  {
   "cell_type": "code",
   "execution_count": 7,
   "metadata": {},
   "outputs": [
    {
     "output_type": "stream",
     "name": "stdout",
     "text": [
      "#1: Avocados   = 1\n#2: Bananas    = 2\n#3: Cherries   = 15\n"
     ]
    }
   ],
   "source": [
    "# Example 6\n",
    "for i, (item, count) in enumerate(pantry):\n",
    "    print('#%d: %-10s = %d' % (\n",
    "        i + 1,\n",
    "        item.title(),\n",
    "        round(count)))"
   ]
  },
  {
   "cell_type": "code",
   "execution_count": 8,
   "metadata": {},
   "outputs": [
    {
     "output_type": "stream",
     "name": "stdout",
     "text": [
      "Max loves food. See Max cook.\n"
     ]
    }
   ],
   "source": [
    "# Example 7\n",
    "template = '%s loves food. See %s cook.'\n",
    "name = 'Max'\n",
    "formatted = template % (name, name)\n",
    "print(formatted)"
   ]
  },
  {
   "cell_type": "code",
   "execution_count": 9,
   "metadata": {},
   "outputs": [
    {
     "output_type": "stream",
     "name": "stdout",
     "text": [
      "Brad loves food. See Brad cook.\n"
     ]
    }
   ],
   "source": [
    "# Example 8\n",
    "name = 'brad'\n",
    "formatted = template % (name.title(), name.title())\n",
    "print(formatted)"
   ]
  },
  {
   "cell_type": "code",
   "execution_count": 10,
   "metadata": {},
   "outputs": [],
   "source": [
    "# Example 9\n",
    "key = 'my_var'\n",
    "value = 1.234\n",
    "\n",
    "old_way = '%-10s = %.2f' % (key, value)\n",
    "\n",
    "new_way = '%(key)-10s = %(value).2f' % {\n",
    "    'key': key, 'value': value}  # Original\n",
    "\n",
    "reordered = '%(key)-10s = %(value).2f' % {\n",
    "    'value': value, 'key': key}  # Swapped\n",
    "\n",
    "assert old_way == new_way == reordered"
   ]
  },
  {
   "cell_type": "code",
   "execution_count": 11,
   "metadata": {},
   "outputs": [],
   "source": [
    "# Example 10\n",
    "name = 'Max'\n",
    "\n",
    "template = '%s loves food. See %s cook.'\n",
    "before = template % (name, name)   # Tuple\n",
    "\n",
    "template = '%(name)s loves food. See %(name)s cook.'\n",
    "after = template % {'name': name}  # Dictionary\n",
    "\n",
    "assert before == after"
   ]
  },
  {
   "cell_type": "code",
   "execution_count": 12,
   "metadata": {},
   "outputs": [],
   "source": [
    "# Example 11\n",
    "for i, (item, count) in enumerate(pantry):\n",
    "    before = '#%d: %-10s = %d' % (\n",
    "        i + 1,\n",
    "        item.title(),\n",
    "        round(count))\n",
    "\n",
    "    after = '#%(loop)d: %(item)-10s = %(count)d' % {\n",
    "        'loop': i + 1,\n",
    "        'item': item.title(),\n",
    "        'count': round(count),\n",
    "    }\n",
    "\n",
    "    assert before == after"
   ]
  },
  {
   "cell_type": "code",
   "execution_count": 13,
   "metadata": {},
   "outputs": [
    {
     "output_type": "stream",
     "name": "stdout",
     "text": [
      "Today's soup is lentil.\n"
     ]
    }
   ],
   "source": [
    "# Example 12\n",
    "soup = 'lentil'\n",
    "formatted = 'Today\\'s soup is %(soup)s.' % {'soup': soup}\n",
    "print(formatted)"
   ]
  },
  {
   "cell_type": "code",
   "execution_count": 14,
   "metadata": {},
   "outputs": [
    {
     "output_type": "stream",
     "name": "stdout",
     "text": [
      "Today's soup is lentil, buy one get two kumamoto oysters, and our special entrée is schnitzel.\n"
     ]
    }
   ],
   "source": [
    "# Example 13\n",
    "menu = {\n",
    "    'soup': 'lentil',\n",
    "    'oyster': 'kumamoto',\n",
    "    'special': 'schnitzel',\n",
    "}\n",
    "template = ('Today\\'s soup is %(soup)s, '\n",
    "            'buy one get two %(oyster)s oysters, '\n",
    "            'and our special entrée is %(special)s.')\n",
    "formatted = template % menu\n",
    "print(formatted)"
   ]
  },
  {
   "cell_type": "code",
   "execution_count": 15,
   "metadata": {},
   "outputs": [
    {
     "output_type": "stream",
     "name": "stdout",
     "text": [
      "1,234.57\n*      my string       *\n"
     ]
    }
   ],
   "source": [
    "# Example 14\n",
    "a = 1234.5678\n",
    "formatted = format(a, ',.2f')\n",
    "print(formatted)\n",
    "\n",
    "b = 'my string'\n",
    "formatted = format(b, '^20s')\n",
    "print('*', formatted, '*')"
   ]
  },
  {
   "cell_type": "code",
   "execution_count": 16,
   "metadata": {},
   "outputs": [
    {
     "output_type": "stream",
     "name": "stdout",
     "text": [
      "my_var = 1.234\n"
     ]
    }
   ],
   "source": [
    "# Example 15\n",
    "key = 'my_var'\n",
    "value = 1.234\n",
    "\n",
    "formatted = '{} = {}'.format(key, value)\n",
    "print(formatted)"
   ]
  },
  {
   "cell_type": "code",
   "execution_count": 17,
   "metadata": {},
   "outputs": [
    {
     "output_type": "stream",
     "name": "stdout",
     "text": [
      "my_var     = 1.23\n"
     ]
    }
   ],
   "source": [
    "# Example 16\n",
    "formatted = '{:<10} = {:.2f}'.format(key, value)\n",
    "print(formatted)"
   ]
  },
  {
   "cell_type": "code",
   "execution_count": 18,
   "metadata": {},
   "outputs": [
    {
     "output_type": "stream",
     "name": "stdout",
     "text": [
      "12.50%\n1.23 replaces {}\n"
     ]
    }
   ],
   "source": [
    "# Example 17\n",
    "print('%.2f%%' % 12.5)\n",
    "print('{} replaces {{}}'.format(1.23))"
   ]
  },
  {
   "cell_type": "code",
   "execution_count": 19,
   "metadata": {},
   "outputs": [
    {
     "output_type": "stream",
     "name": "stdout",
     "text": [
      "1.234 = my_var\n"
     ]
    }
   ],
   "source": [
    "# Example 18\n",
    "formatted = '{1} = {0}'.format(key, value)\n",
    "print(formatted)"
   ]
  },
  {
   "cell_type": "code",
   "execution_count": 20,
   "metadata": {},
   "outputs": [
    {
     "output_type": "stream",
     "name": "stdout",
     "text": [
      "Max loves food. See Max cook.\n"
     ]
    }
   ],
   "source": [
    "# Example 19\n",
    "formatted = '{0} loves food. See {0} cook.'.format(name)\n",
    "print(formatted)"
   ]
  },
  {
   "cell_type": "code",
   "execution_count": 21,
   "metadata": {},
   "outputs": [],
   "source": [
    "# Example 20\n",
    "for i, (item, count) in enumerate(pantry):\n",
    "    old_style = '#%d: %-10s = %d' % (\n",
    "        i + 1,\n",
    "        item.title(),\n",
    "        round(count))\n",
    "\n",
    "    new_style = '#{}: {:<10s} = {}'.format(\n",
    "        i + 1,\n",
    "        item.title(),\n",
    "        round(count))\n",
    "\n",
    "    assert old_style == new_style"
   ]
  },
  {
   "cell_type": "code",
   "execution_count": 22,
   "metadata": {},
   "outputs": [
    {
     "output_type": "stream",
     "name": "stdout",
     "text": [
      "First letter is 'k'\n"
     ]
    }
   ],
   "source": [
    "# Example 21\n",
    "formatted = 'First letter is {menu[oyster][0]!r}'.format(\n",
    "    menu=menu)\n",
    "print(formatted)"
   ]
  },
  {
   "cell_type": "code",
   "execution_count": 23,
   "metadata": {},
   "outputs": [],
   "source": [
    "# Example 22\n",
    "old_template = (\n",
    "    'Today\\'s soup is %(soup)s, '\n",
    "    'buy one get two %(oyster)s oysters, '\n",
    "    'and our special entrée is %(special)s.')\n",
    "old_formatted = old_template % {\n",
    "    'soup': 'lentil',\n",
    "    'oyster': 'kumamoto',\n",
    "    'special': 'schnitzel',\n",
    "}\n",
    "\n",
    "new_template = (\n",
    "    'Today\\'s soup is {soup}, '\n",
    "    'buy one get two {oyster} oysters, '\n",
    "    'and our special entrée is {special}.')\n",
    "new_formatted = new_template.format(\n",
    "    soup='lentil',\n",
    "    oyster='kumamoto',\n",
    "    special='schnitzel',\n",
    ")\n",
    "\n",
    "assert old_formatted == new_formatted"
   ]
  },
  {
   "cell_type": "code",
   "execution_count": 24,
   "metadata": {},
   "outputs": [
    {
     "output_type": "stream",
     "name": "stdout",
     "text": [
      "my_var = 1.234\n"
     ]
    }
   ],
   "source": [
    "# Example 23\n",
    "key = 'my_var'\n",
    "value = 1.234\n",
    "\n",
    "formatted = f'{key} = {value}'\n",
    "print(formatted)"
   ]
  },
  {
   "cell_type": "code",
   "execution_count": 25,
   "metadata": {},
   "outputs": [
    {
     "output_type": "stream",
     "name": "stdout",
     "text": [
      "'my_var'   = 1.23\n"
     ]
    }
   ],
   "source": [
    "# Example 24\n",
    "formatted = f'{key!r:<10} = {value:.2f}'\n",
    "print(formatted)"
   ]
  },
  {
   "cell_type": "code",
   "execution_count": 26,
   "metadata": {},
   "outputs": [],
   "source": [
    "# Example 25\n",
    "f_string = f'{key:<10} = {value:.2f}'\n",
    "\n",
    "c_tuple  = '%-10s = %.2f' % (key, value)\n",
    "\n",
    "str_args = '{:<10} = {:.2f}'.format(key, value)\n",
    "\n",
    "str_kw   = '{key:<10} = {value:.2f}'.format(key=key, value=value)\n",
    "\n",
    "c_dict   = '%(key)-10s = %(value).2f' % {'key': key, 'value': value}\n",
    "\n",
    "assert c_tuple == c_dict == f_string\n",
    "assert str_args == str_kw == f_string"
   ]
  },
  {
   "cell_type": "code",
   "execution_count": 27,
   "metadata": {},
   "outputs": [],
   "source": [
    "# Example 26\n",
    "for i, (item, count) in enumerate(pantry):\n",
    "    old_style = '#%d: %-10s = %d' % (\n",
    "        i + 1,\n",
    "        item.title(),\n",
    "        round(count))\n",
    "\n",
    "    new_style = '#{}: {:<10s} = {}'.format(\n",
    "        i + 1,\n",
    "        item.title(),\n",
    "        round(count))\n",
    "\n",
    "    f_string = f'#{i+1}: {item.title():<10s} = {round(count)}'\n",
    "\n",
    "    assert old_style == new_style == f_string"
   ]
  },
  {
   "cell_type": "code",
   "execution_count": 28,
   "metadata": {},
   "outputs": [
    {
     "output_type": "stream",
     "name": "stdout",
     "text": [
      "#1: Avocados   = 1\n#2: Bananas    = 2\n#3: Cherries   = 15\n"
     ]
    }
   ],
   "source": [
    "# Example 27\n",
    "for i, (item, count) in enumerate(pantry):\n",
    "    print(f'#{i+1}: '\n",
    "          f'{item.title():<10s} = '\n",
    "          f'{round(count)}')"
   ]
  },
  {
   "cell_type": "code",
   "execution_count": 29,
   "metadata": {},
   "outputs": [
    {
     "output_type": "stream",
     "name": "stdout",
     "text": [
      "My number is 1.235\n"
     ]
    }
   ],
   "source": [
    "# Example 28\n",
    "places = 3\n",
    "number = 1.23456\n",
    "print(f'My number is {number:.{places}f}')"
   ]
  },
  {
   "cell_type": "code",
   "execution_count": null,
   "metadata": {},
   "outputs": [],
   "source": []
  }
 ]
}