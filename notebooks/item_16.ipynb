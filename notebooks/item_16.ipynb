{
 "metadata": {
  "language_info": {
   "codemirror_mode": {
    "name": "ipython",
    "version": 3
   },
   "file_extension": ".py",
   "mimetype": "text/x-python",
   "name": "python",
   "nbconvert_exporter": "python",
   "pygments_lexer": "ipython3",
   "version": "3.8.5-final"
  },
  "orig_nbformat": 2,
  "kernelspec": {
   "name": "python3",
   "display_name": "Python 3.8.5 64-bit ('.venv': venv)",
   "metadata": {
    "interpreter": {
     "hash": "73bbdec3959fe17c5cd1a7f08d0a8ad0cc33e165356ce763e8b97eb7675ac8c7"
    }
   }
  }
 },
 "nbformat": 4,
 "nbformat_minor": 2,
 "cells": [
  {
   "cell_type": "code",
   "execution_count": 1,
   "metadata": {},
   "outputs": [],
   "source": [
    "#!/usr/bin/env PYTHONHASHSEED=1234 python3\n",
    "\n",
    "# Copyright 2014-2019 Brett Slatkin, Pearson Education Inc.\n",
    "#\n",
    "# Licensed under the Apache License, Version 2.0 (the \"License\");\n",
    "# you may not use this file except in compliance with the License.\n",
    "# You may obtain a copy of the License at\n",
    "#\n",
    "#     http://www.apache.org/licenses/LICENSE-2.0\n",
    "#\n",
    "# Unless required by applicable law or agreed to in writing, software\n",
    "# distributed under the License is distributed on an \"AS IS\" BASIS,\n",
    "# WITHOUT WARRANTIES OR CONDITIONS OF ANY KIND, either express or implied.\n",
    "# See the License for the specific language governing permissions and\n",
    "# limitations under the License.\n",
    "\n",
    "# Reproduce book environment\n",
    "import random\n",
    "random.seed(1234)\n",
    "\n",
    "import logging\n",
    "from pprint import pprint\n",
    "from sys import stdout as STDOUT\n",
    "\n",
    "# Write all output to a temporary directory\n",
    "import atexit\n",
    "import gc\n",
    "import io\n",
    "import os\n",
    "import tempfile\n",
    "\n",
    "TEST_DIR = tempfile.TemporaryDirectory()\n",
    "atexit.register(TEST_DIR.cleanup)\n",
    "\n",
    "# Make sure Windows processes exit cleanly\n",
    "OLD_CWD = os.getcwd()\n",
    "atexit.register(lambda: os.chdir(OLD_CWD))\n",
    "os.chdir(TEST_DIR.name)\n",
    "\n",
    "def close_open_files():\n",
    "    everything = gc.get_objects()\n",
    "    for obj in everything:\n",
    "        if isinstance(obj, io.IOBase):\n",
    "            obj.close()\n",
    "\n",
    "atexit.register(close_open_files)"
   ]
  },
  {
   "cell_type": "code",
   "execution_count": 2,
   "metadata": {},
   "outputs": [],
   "source": [
    "# Example 1\n",
    "counters = {\n",
    "    'pumpernickel': 2,\n",
    "    'sourdough': 1,\n",
    "}"
   ]
  },
  {
   "cell_type": "code",
   "execution_count": 3,
   "metadata": {},
   "outputs": [
    {
     "output_type": "stream",
     "name": "stdout",
     "text": [
      "{'pumpernickel': 2, 'sourdough': 1, 'wheat': 1}\n"
     ]
    }
   ],
   "source": [
    "# Example 2\n",
    "key = 'wheat'\n",
    "\n",
    "if key in counters:\n",
    "    count = counters[key]\n",
    "else:\n",
    "    count = 0\n",
    "\n",
    "counters[key] = count + 1\n",
    "\n",
    "print(counters)"
   ]
  },
  {
   "cell_type": "code",
   "execution_count": 4,
   "metadata": {},
   "outputs": [
    {
     "output_type": "stream",
     "name": "stdout",
     "text": [
      "{'pumpernickel': 2, 'sourdough': 1, 'wheat': 1, 'brioche': 1}\n"
     ]
    }
   ],
   "source": [
    "# Example 3\n",
    "key = 'brioche'\n",
    "\n",
    "try:\n",
    "    count = counters[key]\n",
    "except KeyError:\n",
    "    count = 0\n",
    "\n",
    "counters[key] = count + 1\n",
    "\n",
    "print(counters)"
   ]
  },
  {
   "cell_type": "code",
   "execution_count": 5,
   "metadata": {},
   "outputs": [
    {
     "output_type": "stream",
     "name": "stdout",
     "text": [
      "{'pumpernickel': 2, 'sourdough': 1, 'wheat': 1, 'brioche': 1, 'multigrain': 1}\n"
     ]
    }
   ],
   "source": [
    "# Example 4\n",
    "key = 'multigrain'\n",
    "\n",
    "count = counters.get(key, 0)\n",
    "counters[key] = count + 1\n",
    "\n",
    "print(counters)"
   ]
  },
  {
   "cell_type": "code",
   "execution_count": 6,
   "metadata": {},
   "outputs": [
    {
     "output_type": "stream",
     "name": "stdout",
     "text": [
      "{'pumpernickel': 2, 'sourdough': 1, 'wheat': 1, 'brioche': 1, 'multigrain': 1, 'baguette': 1, 'ciabatta': 2}\n"
     ]
    }
   ],
   "source": [
    "# Example 5\n",
    "key = 'baguette'\n",
    "\n",
    "if key not in counters:\n",
    "    counters[key] = 0\n",
    "counters[key] += 1\n",
    "\n",
    "key = 'ciabatta'\n",
    "\n",
    "if key in counters:\n",
    "    counters[key] += 1\n",
    "else:\n",
    "    counters[key] = 1\n",
    "\n",
    "key = 'ciabatta'\n",
    "\n",
    "try:\n",
    "    counters[key] += 1\n",
    "except KeyError:\n",
    "    counters[key] = 1\n",
    "\n",
    "print(counters)"
   ]
  },
  {
   "cell_type": "code",
   "execution_count": 7,
   "metadata": {},
   "outputs": [
    {
     "output_type": "stream",
     "name": "stdout",
     "text": [
      "{'baguette': ['Bob', 'Alice'], 'ciabatta': ['Coco', 'Deb'], 'brioche': ['Elmer']}\n"
     ]
    }
   ],
   "source": [
    "# Example 6\n",
    "votes = {\n",
    "    'baguette': ['Bob', 'Alice'],\n",
    "    'ciabatta': ['Coco', 'Deb'],\n",
    "}\n",
    "\n",
    "key = 'brioche'\n",
    "who = 'Elmer'\n",
    "\n",
    "if key in votes:\n",
    "    names = votes[key]\n",
    "else:\n",
    "    votes[key] = names = []\n",
    "\n",
    "names.append(who)\n",
    "print(votes)"
   ]
  },
  {
   "cell_type": "code",
   "execution_count": 8,
   "metadata": {},
   "outputs": [
    {
     "output_type": "stream",
     "name": "stdout",
     "text": [
      "{'baguette': ['Bob', 'Alice'], 'ciabatta': ['Coco', 'Deb'], 'brioche': ['Elmer'], 'rye': ['Felix']}\n"
     ]
    }
   ],
   "source": [
    "# Example 7\n",
    "key = 'rye'\n",
    "who = 'Felix'\n",
    "\n",
    "try:\n",
    "    names = votes[key]\n",
    "except KeyError:\n",
    "    votes[key] = names = []\n",
    "\n",
    "names.append(who)\n",
    "\n",
    "print(votes)"
   ]
  },
  {
   "cell_type": "code",
   "execution_count": 9,
   "metadata": {},
   "outputs": [
    {
     "output_type": "stream",
     "name": "stdout",
     "text": [
      "{'baguette': ['Bob', 'Alice'], 'ciabatta': ['Coco', 'Deb'], 'brioche': ['Elmer'], 'rye': ['Felix'], 'wheat': ['Gertrude']}\n"
     ]
    }
   ],
   "source": [
    "# Example 8\n",
    "key = 'wheat'\n",
    "who = 'Gertrude'\n",
    "\n",
    "names = votes.get(key)\n",
    "if names is None:\n",
    "    votes[key] = names = []\n",
    "\n",
    "names.append(who)\n",
    "\n",
    "print(votes)"
   ]
  },
  {
   "cell_type": "code",
   "execution_count": 10,
   "metadata": {},
   "outputs": [
    {
     "output_type": "stream",
     "name": "stdout",
     "text": [
      "{'baguette': ['Bob', 'Alice'], 'ciabatta': ['Coco', 'Deb'], 'brioche': ['Elmer', 'Hugh'], 'rye': ['Felix'], 'wheat': ['Gertrude']}\n"
     ]
    }
   ],
   "source": [
    "# Example 9\n",
    "key = 'brioche'\n",
    "who = 'Hugh'\n",
    "\n",
    "if (names := votes.get(key)) is None:\n",
    "    votes[key] = names = []\n",
    "\n",
    "names.append(who)\n",
    "\n",
    "print(votes)"
   ]
  },
  {
   "cell_type": "code",
   "execution_count": 11,
   "metadata": {},
   "outputs": [
    {
     "output_type": "stream",
     "name": "stdout",
     "text": [
      "{'baguette': ['Bob', 'Alice'], 'ciabatta': ['Coco', 'Deb'], 'brioche': ['Elmer', 'Hugh'], 'rye': ['Felix'], 'wheat': ['Gertrude'], 'cornbread': ['Kirk']}\n"
     ]
    }
   ],
   "source": [
    "# Example 10\n",
    "key = 'cornbread'\n",
    "who = 'Kirk'\n",
    "\n",
    "names = votes.setdefault(key, [])\n",
    "names.append(who)\n",
    "\n",
    "print(votes)"
   ]
  },
  {
   "cell_type": "code",
   "execution_count": 12,
   "metadata": {},
   "outputs": [
    {
     "output_type": "stream",
     "name": "stdout",
     "text": [
      "Before: {'foo': []}\nAfter:  {'foo': ['hello']}\n"
     ]
    }
   ],
   "source": [
    "# Example 11\n",
    "data = {}\n",
    "key = 'foo'\n",
    "value = []\n",
    "data.setdefault(key, value)\n",
    "print('Before:', data)\n",
    "value.append('hello')\n",
    "print('After: ', data)"
   ]
  },
  {
   "cell_type": "code",
   "execution_count": 13,
   "metadata": {},
   "outputs": [
    {
     "output_type": "stream",
     "name": "stdout",
     "text": [
      "{'pumpernickel': 2, 'sourdough': 1, 'wheat': 1, 'brioche': 1, 'multigrain': 1, 'baguette': 1, 'ciabatta': 2, 'dutch crunch': 1}\n"
     ]
    }
   ],
   "source": [
    "# Example 12\n",
    "key = 'dutch crunch'\n",
    "\n",
    "count = counters.setdefault(key, 0)\n",
    "counters[key] = count + 1\n",
    "\n",
    "print(counters)"
   ]
  },
  {
   "cell_type": "code",
   "execution_count": null,
   "metadata": {},
   "outputs": [],
   "source": []
  }
 ]
}