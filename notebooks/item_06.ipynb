{
 "metadata": {
  "language_info": {
   "codemirror_mode": {
    "name": "ipython",
    "version": 3
   },
   "file_extension": ".py",
   "mimetype": "text/x-python",
   "name": "python",
   "nbconvert_exporter": "python",
   "pygments_lexer": "ipython3",
   "version": "3.7.8-final"
  },
  "orig_nbformat": 2,
  "kernelspec": {
   "name": "python3",
   "display_name": "Python 3.7.8 64-bit ('pyfund': conda)",
   "metadata": {
    "interpreter": {
     "hash": "f4cfa51a2cae783c6da3464a3f207b90eb885eaba5309c858356e2676eaf5388"
    }
   }
  }
 },
 "nbformat": 4,
 "nbformat_minor": 2,
 "cells": [
  {
   "cell_type": "code",
   "execution_count": 1,
   "metadata": {},
   "outputs": [
    {
     "output_type": "execute_result",
     "data": {
      "text/plain": [
       "<function __main__.close_open_files>"
      ]
     },
     "metadata": {},
     "execution_count": 1
    }
   ],
   "source": [
    "#!/usr/bin/env PYTHONHASHSEED=1234 python3\n",
    "\n",
    "# Copyright 2014-2019 Brett Slatkin, Pearson Education Inc.\n",
    "#\n",
    "# Licensed under the Apache License, Version 2.0 (the \"License\");\n",
    "# you may not use this file except in compliance with the License.\n",
    "# You may obtain a copy of the License at\n",
    "#\n",
    "#     http://www.apache.org/licenses/LICENSE-2.0\n",
    "#\n",
    "# Unless required by applicable law or agreed to in writing, software\n",
    "# distributed under the License is distributed on an \"AS IS\" BASIS,\n",
    "# WITHOUT WARRANTIES OR CONDITIONS OF ANY KIND, either express or implied.\n",
    "# See the License for the specific language governing permissions and\n",
    "# limitations under the License.\n",
    "\n",
    "# Reproduce book environment\n",
    "import random\n",
    "random.seed(1234)\n",
    "\n",
    "import logging\n",
    "from pprint import pprint\n",
    "from sys import stdout as STDOUT\n",
    "\n",
    "# Write all output to a temporary directory\n",
    "import atexit\n",
    "import gc\n",
    "import io\n",
    "import os\n",
    "import tempfile\n",
    "\n",
    "TEST_DIR = tempfile.TemporaryDirectory()\n",
    "atexit.register(TEST_DIR.cleanup)\n",
    "\n",
    "# Make sure Windows processes exit cleanly\n",
    "OLD_CWD = os.getcwd()\n",
    "atexit.register(lambda: os.chdir(OLD_CWD))\n",
    "os.chdir(TEST_DIR.name)\n",
    "\n",
    "def close_open_files():\n",
    "    everything = gc.get_objects()\n",
    "    for obj in everything:\n",
    "        if isinstance(obj, io.IOBase):\n",
    "            obj.close()\n",
    "\n",
    "atexit.register(close_open_files)"
   ]
  },
  {
   "cell_type": "code",
   "execution_count": 2,
   "metadata": {},
   "outputs": [
    {
     "output_type": "stream",
     "name": "stdout",
     "text": [
      "(('chips', 140), ('popcorn', 80), ('nuts', 190))\n"
     ]
    }
   ],
   "source": [
    "# Example 1\n",
    "snack_calories = {\n",
    "\t'chips': 140,\n",
    "\t'popcorn': 80,\n",
    "\t'nuts': 190,\n",
    "}\n",
    "items = tuple(snack_calories.items())\n",
    "print(items)"
   ]
  },
  {
   "cell_type": "code",
   "execution_count": 3,
   "metadata": {},
   "outputs": [
    {
     "output_type": "stream",
     "name": "stdout",
     "text": [
      "Peanut butter and Jelly\n"
     ]
    }
   ],
   "source": [
    "# Example 2\n",
    "item = ('Peanut butter', 'Jelly')\n",
    "first = item[0]\n",
    "second = item[1]\n",
    "print(first, 'and', second)"
   ]
  },
  {
   "cell_type": "code",
   "execution_count": 4,
   "metadata": {},
   "outputs": [
    {
     "output_type": "stream",
     "name": "stderr",
     "text": [
      "ERROR:root:Expected\nTraceback (most recent call last):\n  File \"<ipython-input-4-cc07166ce003>\", line 4, in <module>\n    pair[0] = 'Honey'\nTypeError: 'tuple' object does not support item assignment\n"
     ]
    }
   ],
   "source": [
    "# Example 3\n",
    "try:\n",
    "    pair = ('Chocolate', 'Peanut butter')\n",
    "    pair[0] = 'Honey'\n",
    "except:\n",
    "    logging.exception('Expected')\n",
    "else:\n",
    "    assert False"
   ]
  },
  {
   "cell_type": "code",
   "execution_count": 5,
   "metadata": {},
   "outputs": [
    {
     "output_type": "stream",
     "name": "stdout",
     "text": [
      "Peanut butter and Jelly\n"
     ]
    }
   ],
   "source": [
    "# Example 4\n",
    "item = ('Peanut butter', 'Jelly')\n",
    "first, second = item  # Unpacking\n",
    "print(first, 'and', second)"
   ]
  },
  {
   "cell_type": "code",
   "execution_count": 6,
   "metadata": {},
   "outputs": [
    {
     "output_type": "stream",
     "name": "stdout",
     "text": [
      "Favorite salty is pretzels with 100 calories\nFavorite sweet is cookies with 180 calories\nFavorite veggie is carrots with 20 calories\n"
     ]
    }
   ],
   "source": [
    "# Example 5\n",
    "favorite_snacks = {\n",
    "\t'salty': ('pretzels', 100),\n",
    "\t'sweet': ('cookies', 180),\n",
    "\t'veggie': ('carrots', 20),\n",
    "}\n",
    "\n",
    "((type1, (name1, cals1)),\n",
    " (type2, (name2, cals2)),\n",
    " (type3, (name3, cals3))) = favorite_snacks.items()\n",
    "\n",
    "print(f'Favorite {type1} is {name1} with {cals1} calories')\n",
    "print(f'Favorite {type2} is {name2} with {cals2} calories')\n",
    "print(f'Favorite {type3} is {name3} with {cals3} calories')"
   ]
  },
  {
   "cell_type": "code",
   "execution_count": 7,
   "metadata": {},
   "outputs": [
    {
     "output_type": "stream",
     "name": "stdout",
     "text": [
      "['arugula', 'bacon', 'carrots', 'pretzels']\n"
     ]
    }
   ],
   "source": [
    "# Example 6\n",
    "def bubble_sort(a):\n",
    "\tfor _ in range(len(a)):\n",
    "\t\tfor i in range(1, len(a)):\n",
    "\t\t\tif a[i] < a[i-1]:\n",
    "\t\t\t\ttemp = a[i]\n",
    "\t\t\t\ta[i] = a[i-1]\n",
    "\t\t\t\ta[i-1] = temp\n",
    "\n",
    "names = ['pretzels', 'carrots', 'arugula', 'bacon']\n",
    "bubble_sort(names)\n",
    "print(names)"
   ]
  },
  {
   "cell_type": "code",
   "execution_count": 8,
   "metadata": {},
   "outputs": [
    {
     "output_type": "stream",
     "name": "stdout",
     "text": [
      "['arugula', 'bacon', 'carrots', 'pretzels']\n"
     ]
    }
   ],
   "source": [
    "# Example 7\n",
    "def bubble_sort(a):\n",
    "\tfor _ in range(len(a)):\n",
    "\t\tfor i in range(1, len(a)):\n",
    "\t\t\tif a[i] < a[i-1]:\n",
    "\t\t\t\ta[i-1], a[i] = a[i], a[i-1]  # Swap\n",
    "\n",
    "names = ['pretzels', 'carrots', 'arugula', 'bacon']\n",
    "bubble_sort(names)\n",
    "print(names)"
   ]
  },
  {
   "cell_type": "code",
   "execution_count": 9,
   "metadata": {},
   "outputs": [
    {
     "output_type": "stream",
     "name": "stdout",
     "text": [
      "#1: bacon has 350 calories\n#2: donut has 240 calories\n#3: muffin has 190 calories\n"
     ]
    }
   ],
   "source": [
    "# Example 8\n",
    "snacks = [('bacon', 350), ('donut', 240), ('muffin', 190)]\n",
    "for i in range(len(snacks)):\n",
    "\titem = snacks[i]\n",
    "\tname = item[0]\n",
    "\tcalories = item[1]\n",
    "\tprint(f'#{i+1}: {name} has {calories} calories')"
   ]
  },
  {
   "cell_type": "code",
   "execution_count": 10,
   "metadata": {},
   "outputs": [
    {
     "output_type": "stream",
     "name": "stdout",
     "text": [
      "#1: bacon has 350 calories\n#2: donut has 240 calories\n#3: muffin has 190 calories\n"
     ]
    }
   ],
   "source": [
    "# Example 9\n",
    "for rank, (name, calories) in enumerate(snacks, 1):\n",
    "\tprint(f'#{rank}: {name} has {calories} calories')"
   ]
  },
  {
   "cell_type": "code",
   "execution_count": null,
   "metadata": {},
   "outputs": [],
   "source": []
  }
 ]
}