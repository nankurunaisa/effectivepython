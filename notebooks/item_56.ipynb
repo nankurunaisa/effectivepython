{
 "metadata": {
  "language_info": {
   "codemirror_mode": {
    "name": "ipython",
    "version": 3
   },
   "file_extension": ".py",
   "mimetype": "text/x-python",
   "name": "python",
   "nbconvert_exporter": "python",
   "pygments_lexer": "ipython3",
   "version": "3.8.8-final"
  },
  "orig_nbformat": 2,
  "kernelspec": {
   "name": "python3",
   "display_name": "Python 3.8.8 64-bit",
   "metadata": {
    "interpreter": {
     "hash": "ccd487ed38572b3e19ef3faf0990f633e80ca0051bb31e2083bbae684677b431"
    }
   }
  }
 },
 "nbformat": 4,
 "nbformat_minor": 2,
 "cells": [
  {
   "cell_type": "code",
   "execution_count": 1,
   "metadata": {},
   "outputs": [
    {
     "output_type": "execute_result",
     "data": {
      "text/plain": [
       "<function __main__.close_open_files()>"
      ]
     },
     "metadata": {},
     "execution_count": 1
    }
   ],
   "source": [
    "#!/usr/bin/env PYTHONHASHSEED=1234 python3\n",
    "\n",
    "# Copyright 2014-2019 Brett Slatkin, Pearson Education Inc.\n",
    "#\n",
    "# Licensed under the Apache License, Version 2.0 (the \"License\");\n",
    "# you may not use this file except in compliance with the License.\n",
    "# You may obtain a copy of the License at\n",
    "#\n",
    "#     http://www.apache.org/licenses/LICENSE-2.0\n",
    "#\n",
    "# Unless required by applicable law or agreed to in writing, software\n",
    "# distributed under the License is distributed on an \"AS IS\" BASIS,\n",
    "# WITHOUT WARRANTIES OR CONDITIONS OF ANY KIND, either express or implied.\n",
    "# See the License for the specific language governing permissions and\n",
    "# limitations under the License.\n",
    "\n",
    "# Reproduce book environment\n",
    "import random\n",
    "random.seed(1234)\n",
    "\n",
    "import logging\n",
    "from pprint import pprint\n",
    "from sys import stdout as STDOUT\n",
    "\n",
    "# Write all output to a temporary directory\n",
    "import atexit\n",
    "import gc\n",
    "import io\n",
    "import os\n",
    "import tempfile\n",
    "\n",
    "TEST_DIR = tempfile.TemporaryDirectory()\n",
    "atexit.register(TEST_DIR.cleanup)\n",
    "\n",
    "# Make sure Windows processes exit cleanly\n",
    "OLD_CWD = os.getcwd()\n",
    "atexit.register(lambda: os.chdir(OLD_CWD))\n",
    "os.chdir(TEST_DIR.name)\n",
    "\n",
    "def close_open_files():\n",
    "    everything = gc.get_objects()\n",
    "    for obj in everything:\n",
    "        if isinstance(obj, io.IOBase):\n",
    "            obj.close()\n",
    "\n",
    "atexit.register(close_open_files)"
   ]
  },
  {
   "cell_type": "code",
   "execution_count": 2,
   "metadata": {},
   "outputs": [],
   "source": [
    "# Example 1\n",
    "ALIVE = '*'\n",
    "EMPTY = '-'"
   ]
  },
  {
   "cell_type": "code",
   "execution_count": 3,
   "metadata": {},
   "outputs": [],
   "source": [
    "# Example 2\n",
    "class Grid:\n",
    "    def __init__(self, height, width):\n",
    "        self.height = height\n",
    "        self.width = width\n",
    "        self.rows = []\n",
    "        for _ in range(self.height):\n",
    "            self.rows.append([EMPTY] * self.width)\n",
    "\n",
    "    def get(self, y, x):\n",
    "        return self.rows[y % self.height][x % self.width]\n",
    "\n",
    "    def set(self, y, x, state):\n",
    "        self.rows[y % self.height][x % self.width] = state\n",
    "\n",
    "    def __str__(self):\n",
    "        output = ''\n",
    "        for row in self.rows:\n",
    "            for cell in row:\n",
    "                output += cell\n",
    "            output += '\\n'\n",
    "        return output"
   ]
  },
  {
   "cell_type": "code",
   "execution_count": 4,
   "metadata": {},
   "outputs": [
    {
     "output_type": "stream",
     "name": "stdout",
     "text": [
      "---*-----\n----*----\n--***----\n---------\n---------\n\n"
     ]
    }
   ],
   "source": [
    "# Example 3\n",
    "grid = Grid(5, 9)\n",
    "grid.set(0, 3, ALIVE)\n",
    "grid.set(1, 4, ALIVE)\n",
    "grid.set(2, 2, ALIVE)\n",
    "grid.set(2, 3, ALIVE)\n",
    "grid.set(2, 4, ALIVE)\n",
    "print(grid)"
   ]
  },
  {
   "cell_type": "code",
   "execution_count": 5,
   "metadata": {},
   "outputs": [],
   "source": [
    "# Example 4\n",
    "def count_neighbors(y, x, get):\n",
    "    n_ = get(y - 1, x + 0)  # North\n",
    "    ne = get(y - 1, x + 1)  # Northeast\n",
    "    e_ = get(y + 0, x + 1)  # East\n",
    "    se = get(y + 1, x + 1)  # Southeast\n",
    "    s_ = get(y + 1, x + 0)  # South\n",
    "    sw = get(y + 1, x - 1)  # Southwest\n",
    "    w_ = get(y + 0, x - 1)  # West\n",
    "    nw = get(y - 1, x - 1)  # Northwest\n",
    "    neighbor_states = [n_, ne, e_, se, s_, sw, w_, nw]\n",
    "    count = 0\n",
    "    for state in neighbor_states:\n",
    "        if state == ALIVE:\n",
    "            count += 1\n",
    "    return count\n",
    "\n",
    "alive = {(9, 5), (9, 6)}\n",
    "seen = set()\n",
    "\n",
    "def fake_get(y, x):\n",
    "    position = (y, x)\n",
    "    seen.add(position)\n",
    "    return ALIVE if position in alive else EMPTY\n",
    "\n",
    "count = count_neighbors(10, 5, fake_get)\n",
    "assert count == 2\n",
    "\n",
    "expected_seen = {\n",
    "    (9, 5),  (9, 6),  (10, 6), (11, 6),\n",
    "    (11, 5), (11, 4), (10, 4), (9, 4)\n",
    "}\n",
    "assert seen == expected_seen"
   ]
  },
  {
   "cell_type": "code",
   "execution_count": 6,
   "metadata": {},
   "outputs": [],
   "source": [
    "# Example 5\n",
    "def game_logic(state, neighbors):\n",
    "    if state == ALIVE:\n",
    "        if neighbors < 2:\n",
    "            return EMPTY     # Die: Too few\n",
    "        elif neighbors > 3:\n",
    "            return EMPTY     # Die: Too many\n",
    "    else:\n",
    "        if neighbors == 3:\n",
    "            return ALIVE     # Regenerate\n",
    "    return state\n",
    "\n",
    "assert game_logic(ALIVE, 0) == EMPTY\n",
    "assert game_logic(ALIVE, 1) == EMPTY\n",
    "assert game_logic(ALIVE, 2) == ALIVE\n",
    "assert game_logic(ALIVE, 3) == ALIVE\n",
    "assert game_logic(ALIVE, 4) == EMPTY\n",
    "assert game_logic(EMPTY, 0) == EMPTY\n",
    "assert game_logic(EMPTY, 1) == EMPTY\n",
    "assert game_logic(EMPTY, 2) == EMPTY\n",
    "assert game_logic(EMPTY, 3) == ALIVE\n",
    "assert game_logic(EMPTY, 4) == EMPTY"
   ]
  },
  {
   "cell_type": "code",
   "execution_count": 7,
   "metadata": {},
   "outputs": [],
   "source": [
    "# Example 6\n",
    "def step_cell(y, x, get, set):\n",
    "    state = get(y, x)\n",
    "    neighbors = count_neighbors(y, x, get)\n",
    "    next_state = game_logic(state, neighbors)\n",
    "    set(y, x, next_state)\n",
    "\n",
    "alive = {(10, 5), (9, 5), (9, 6)}\n",
    "new_state = None\n",
    "\n",
    "def fake_get(y, x):\n",
    "    return ALIVE if (y, x) in alive else EMPTY\n",
    "\n",
    "def fake_set(y, x, state):\n",
    "    global new_state\n",
    "    new_state = state\n",
    "\n",
    "# Stay alive\n",
    "step_cell(10, 5, fake_get, fake_set)\n",
    "assert new_state == ALIVE\n",
    "\n",
    "# Stay dead\n",
    "alive.remove((10, 5))\n",
    "step_cell(10, 5, fake_get, fake_set)\n",
    "assert new_state == EMPTY\n",
    "\n",
    "# Regenerate\n",
    "alive.add((10, 6))\n",
    "step_cell(10, 5, fake_get, fake_set)\n",
    "assert new_state == ALIVE"
   ]
  },
  {
   "cell_type": "code",
   "execution_count": 8,
   "metadata": {},
   "outputs": [],
   "source": [
    "# Example 7\n",
    "def simulate(grid):\n",
    "    next_grid = Grid(grid.height, grid.width)\n",
    "    for y in range(grid.height):\n",
    "        for x in range(grid.width):\n",
    "            step_cell(y, x, grid.get, next_grid.set)\n",
    "    return next_grid"
   ]
  },
  {
   "cell_type": "code",
   "execution_count": 9,
   "metadata": {},
   "outputs": [
    {
     "output_type": "stream",
     "name": "stdout",
     "text": [
      "    0     |     1     |     2     |     3     |     4    \n---*----- | --------- | --------- | --------- | ---------\n----*---- | --*-*---- | ----*---- | ---*----- | ----*----\n--***---- | ---**---- | --*-*---- | ----**--- | -----*---\n--------- | ---*----- | ---**---- | ---**---- | ---***---\n--------- | --------- | --------- | --------- | ---------\n"
     ]
    }
   ],
   "source": [
    "# Example 8\n",
    "class ColumnPrinter:\n",
    "    def __init__(self):\n",
    "        self.columns = []\n",
    "\n",
    "    def append(self, data):\n",
    "        self.columns.append(data)\n",
    "\n",
    "    def __str__(self):\n",
    "        row_count = 1\n",
    "        for data in self.columns:\n",
    "            row_count = max(\n",
    "                row_count, len(data.splitlines()) + 1)\n",
    "\n",
    "        rows = [''] * row_count\n",
    "        for j in range(row_count):\n",
    "            for i, data in enumerate(self.columns):\n",
    "                line = data.splitlines()[max(0, j - 1)]\n",
    "                if j == 0:\n",
    "                    padding = ' ' * (len(line) // 2)\n",
    "                    rows[j] += padding + str(i) + padding\n",
    "                else:\n",
    "                    rows[j] += line\n",
    "\n",
    "                if (i + 1) < len(self.columns):\n",
    "                    rows[j] += ' | '\n",
    "\n",
    "        return '\\n'.join(rows)\n",
    "\n",
    "columns = ColumnPrinter()\n",
    "for i in range(5):\n",
    "    columns.append(str(grid))\n",
    "    grid = simulate(grid)\n",
    "\n",
    "print(columns)"
   ]
  },
  {
   "cell_type": "code",
   "execution_count": 10,
   "metadata": {},
   "outputs": [],
   "source": [
    "# Example 9\n",
    "def game_logic(state, neighbors):\n",
    "    # Do some blocking input/output in here:\n",
    "    data = my_socket.recv(100)"
   ]
  },
  {
   "cell_type": "code",
   "execution_count": null,
   "metadata": {},
   "outputs": [],
   "source": []
  }
 ]
}