{
 "metadata": {
  "language_info": {
   "codemirror_mode": {
    "name": "ipython",
    "version": 3
   },
   "file_extension": ".py",
   "mimetype": "text/x-python",
   "name": "python",
   "nbconvert_exporter": "python",
   "pygments_lexer": "ipython3",
   "version": "3.7.8-final"
  },
  "orig_nbformat": 2,
  "kernelspec": {
   "name": "python3",
   "display_name": "Python 3.7.8 64-bit ('pyfund': conda)",
   "metadata": {
    "interpreter": {
     "hash": "f4cfa51a2cae783c6da3464a3f207b90eb885eaba5309c858356e2676eaf5388"
    }
   }
  }
 },
 "nbformat": 4,
 "nbformat_minor": 2,
 "cells": [
  {
   "cell_type": "code",
   "execution_count": 1,
   "metadata": {},
   "outputs": [
    {
     "output_type": "execute_result",
     "data": {
      "text/plain": [
       "<function __main__.close_open_files>"
      ]
     },
     "metadata": {},
     "execution_count": 1
    }
   ],
   "source": [
    "#!/usr/bin/env PYTHONHASHSEED=1234 python3\n",
    "\n",
    "# Copyright 2014-2019 Brett Slatkin, Pearson Education Inc.\n",
    "#\n",
    "# Licensed under the Apache License, Version 2.0 (the \"License\");\n",
    "# you may not use this file except in compliance with the License.\n",
    "# You may obtain a copy of the License at\n",
    "#\n",
    "#     http://www.apache.org/licenses/LICENSE-2.0\n",
    "#\n",
    "# Unless required by applicable law or agreed to in writing, software\n",
    "# distributed under the License is distributed on an \"AS IS\" BASIS,\n",
    "# WITHOUT WARRANTIES OR CONDITIONS OF ANY KIND, either express or implied.\n",
    "# See the License for the specific language governing permissions and\n",
    "# limitations under the License.\n",
    "\n",
    "# Reproduce book environment\n",
    "import random\n",
    "random.seed(1234)\n",
    "\n",
    "import logging\n",
    "from pprint import pprint\n",
    "from sys import stdout as STDOUT\n",
    "\n",
    "# Write all output to a temporary directory\n",
    "import atexit\n",
    "import gc\n",
    "import io\n",
    "import os\n",
    "import tempfile\n",
    "\n",
    "TEST_DIR = tempfile.TemporaryDirectory()\n",
    "atexit.register(TEST_DIR.cleanup)\n",
    "\n",
    "# Make sure Windows processes exit cleanly\n",
    "OLD_CWD = os.getcwd()\n",
    "atexit.register(lambda: os.chdir(OLD_CWD))\n",
    "os.chdir(TEST_DIR.name)\n",
    "\n",
    "def close_open_files():\n",
    "    everything = gc.get_objects()\n",
    "    for obj in everything:\n",
    "        if isinstance(obj, io.IOBase):\n",
    "            obj.close()\n",
    "\n",
    "atexit.register(close_open_files)"
   ]
  },
  {
   "cell_type": "code",
   "execution_count": 2,
   "metadata": {},
   "outputs": [
    {
     "output_type": "stream",
     "name": "stdout",
     "text": [
      "[104, 101, 108, 108, 111]\nb'hello'\n"
     ]
    }
   ],
   "source": [
    "# Example 1\n",
    "a = b'h\\x65llo'\n",
    "print(list(a))\n",
    "print(a)"
   ]
  },
  {
   "cell_type": "code",
   "execution_count": 3,
   "metadata": {},
   "outputs": [
    {
     "output_type": "stream",
     "name": "stdout",
     "text": [
      "['a', '̀', ' ', 'p', 'r', 'o', 'p', 'o', 's']\nà propos\n"
     ]
    }
   ],
   "source": [
    "# Example 2\n",
    "a = 'a\\u0300 propos'\n",
    "print(list(a))\n",
    "print(a)"
   ]
  },
  {
   "cell_type": "code",
   "execution_count": 4,
   "metadata": {},
   "outputs": [
    {
     "output_type": "stream",
     "name": "stdout",
     "text": [
      "'foo'\n'bar'\n"
     ]
    }
   ],
   "source": [
    "\n",
    "# Example 3\n",
    "def to_str(bytes_or_str):\n",
    "    if isinstance(bytes_or_str, bytes):\n",
    "        value = bytes_or_str.decode('utf-8')\n",
    "    else:\n",
    "        value = bytes_or_str\n",
    "    return value  # Instance of str\n",
    "\n",
    "print(repr(to_str(b'foo')))\n",
    "print(repr(to_str('bar')))"
   ]
  },
  {
   "cell_type": "code",
   "execution_count": 5,
   "metadata": {},
   "outputs": [
    {
     "output_type": "stream",
     "name": "stdout",
     "text": [
      "b'foo'\nb'bar'\n"
     ]
    }
   ],
   "source": [
    "# Example 4\n",
    "def to_bytes(bytes_or_str):\n",
    "    if isinstance(bytes_or_str, str):\n",
    "        value = bytes_or_str.encode('utf-8')\n",
    "    else:\n",
    "        value = bytes_or_str\n",
    "    return value  # Instance of bytes\n",
    "\n",
    "print(repr(to_bytes(b'foo')))\n",
    "print(repr(to_bytes('bar')))"
   ]
  },
  {
   "cell_type": "code",
   "execution_count": 6,
   "metadata": {},
   "outputs": [
    {
     "output_type": "stream",
     "name": "stdout",
     "text": [
      "b'onetwo'\nonetwo\n"
     ]
    }
   ],
   "source": [
    "# Example 5\n",
    "print(b'one' + b'two')\n",
    "print('one' + 'two')"
   ]
  },
  {
   "cell_type": "code",
   "execution_count": 7,
   "metadata": {},
   "outputs": [
    {
     "output_type": "stream",
     "name": "stderr",
     "text": [
      "ERROR:root:Expected\nTraceback (most recent call last):\n  File \"<ipython-input-7-80ba06b1ee6a>\", line 3, in <module>\n    b'one' + 'two'\nTypeError: can't concat str to bytes\n"
     ]
    }
   ],
   "source": [
    "# Example 6\n",
    "try:\n",
    "    b'one' + 'two'\n",
    "except:\n",
    "    logging.exception('Expected')\n",
    "else:\n",
    "    assert False"
   ]
  },
  {
   "cell_type": "code",
   "execution_count": 8,
   "metadata": {},
   "outputs": [
    {
     "output_type": "stream",
     "name": "stderr",
     "text": [
      "ERROR:root:Expected\nTraceback (most recent call last):\n  File \"<ipython-input-8-7d2614cdbe1e>\", line 3, in <module>\n    'one' + b'two'\nTypeError: can only concatenate str (not \"bytes\") to str\n"
     ]
    }
   ],
   "source": [
    "# Example 7\n",
    "try:\n",
    "    'one' + b'two'\n",
    "except:\n",
    "    logging.exception('Expected')\n",
    "else:\n",
    "    assert False"
   ]
  },
  {
   "cell_type": "code",
   "execution_count": 10,
   "metadata": {},
   "outputs": [],
   "source": [
    "# Example 8\n",
    "assert b'red' > b'blue'\n",
    "assert 'red' > 'blue'"
   ]
  },
  {
   "cell_type": "code",
   "execution_count": 11,
   "metadata": {},
   "outputs": [
    {
     "output_type": "stream",
     "name": "stderr",
     "text": [
      "ERROR:root:Expected\nTraceback (most recent call last):\n  File \"<ipython-input-11-405d8c27305f>\", line 3, in <module>\n    assert 'red' > b'blue'\nTypeError: '>' not supported between instances of 'str' and 'bytes'\n"
     ]
    }
   ],
   "source": [
    "# Example 9\n",
    "try:\n",
    "    assert 'red' > b'blue'\n",
    "except:\n",
    "    logging.exception('Expected')\n",
    "else:\n",
    "    assert False"
   ]
  },
  {
   "cell_type": "code",
   "execution_count": 12,
   "metadata": {},
   "outputs": [
    {
     "output_type": "stream",
     "name": "stderr",
     "text": [
      "ERROR:root:Expected\nTraceback (most recent call last):\n  File \"<ipython-input-12-6b712dd07224>\", line 3, in <module>\n    assert b'blue' < 'red'\nTypeError: '<' not supported between instances of 'bytes' and 'str'\n"
     ]
    }
   ],
   "source": [
    "# Example 10\n",
    "try:\n",
    "    assert b'blue' < 'red'\n",
    "except:\n",
    "    logging.exception('Expected')\n",
    "else:\n",
    "    assert False"
   ]
  },
  {
   "cell_type": "code",
   "execution_count": 13,
   "metadata": {},
   "outputs": [
    {
     "output_type": "stream",
     "name": "stdout",
     "text": [
      "False\n"
     ]
    }
   ],
   "source": [
    "# Example 11\n",
    "print(b'foo' == 'foo')"
   ]
  },
  {
   "cell_type": "code",
   "execution_count": 14,
   "metadata": {},
   "outputs": [
    {
     "output_type": "stream",
     "name": "stdout",
     "text": [
      "b'red blue'\nred blue\n"
     ]
    }
   ],
   "source": [
    "# Example 12\n",
    "print(b'red %s' % b'blue')\n",
    "print('red %s' % 'blue')"
   ]
  },
  {
   "cell_type": "code",
   "execution_count": 15,
   "metadata": {},
   "outputs": [
    {
     "output_type": "stream",
     "name": "stderr",
     "text": [
      "ERROR:root:Expected\nTraceback (most recent call last):\n  File \"<ipython-input-15-8a8a62039e17>\", line 3, in <module>\n    print(b'red %s' % 'blue')\nTypeError: %b requires a bytes-like object, or an object that implements __bytes__, not 'str'\n"
     ]
    }
   ],
   "source": [
    "# Example 13\n",
    "try:\n",
    "    print(b'red %s' % 'blue')\n",
    "except:\n",
    "    logging.exception('Expected')\n",
    "else:\n",
    "    assert False"
   ]
  },
  {
   "cell_type": "code",
   "execution_count": 16,
   "metadata": {},
   "outputs": [
    {
     "output_type": "stream",
     "name": "stdout",
     "text": [
      "red b'blue'\n"
     ]
    }
   ],
   "source": [
    "# Example 14\n",
    "print('red %s' % b'blue')"
   ]
  },
  {
   "cell_type": "code",
   "execution_count": 17,
   "metadata": {},
   "outputs": [
    {
     "output_type": "stream",
     "name": "stderr",
     "text": [
      "ERROR:root:Expected\nTraceback (most recent call last):\n  File \"<ipython-input-17-9b654fe52288>\", line 4, in <module>\n    f.write(b'\\xf1\\xf2\\xf3\\xf4\\xf5')\nTypeError: write() argument must be str, not bytes\n"
     ]
    }
   ],
   "source": [
    "# Example 15\n",
    "try:\n",
    "    with open('data.bin', 'w') as f:\n",
    "        f.write(b'\\xf1\\xf2\\xf3\\xf4\\xf5')\n",
    "except:\n",
    "    logging.exception('Expected')\n",
    "else:\n",
    "    assert False"
   ]
  },
  {
   "cell_type": "code",
   "execution_count": 18,
   "metadata": {},
   "outputs": [],
   "source": [
    "# Example 16\n",
    "with open('data.bin', 'wb') as f:\n",
    "    f.write(b'\\xf1\\xf2\\xf3\\xf4\\xf5')"
   ]
  },
  {
   "cell_type": "code",
   "execution_count": 19,
   "metadata": {},
   "outputs": [
    {
     "output_type": "stream",
     "name": "stderr",
     "text": [
      "ERROR:root:Expected\nTraceback (most recent call last):\n  File \"<ipython-input-19-38f68c785d57>\", line 11, in <module>\n    data = f.read()\n  File \"/home/dtateyama/anaconda3/envs/pyfund/lib/python3.7/codecs.py\", line 322, in decode\n    (result, consumed) = self._buffer_decode(data, self.errors, final)\nUnicodeDecodeError: 'utf-8' codec can't decode byte 0xf1 in position 0: invalid continuation byte\n"
     ]
    }
   ],
   "source": [
    "# Example 17\n",
    "try:\n",
    "    # Silently force UTF-8 here to make sure this test fails on\n",
    "    # all platforms. cp1252 considers these bytes valid on Windows.\n",
    "    real_open = open\n",
    "    def open(*args, **kwargs):\n",
    "        kwargs['encoding'] = 'utf-8'\n",
    "        return real_open(*args, **kwargs)\n",
    "    \n",
    "    with open('data.bin', 'r') as f:\n",
    "        data = f.read()\n",
    "except:\n",
    "    logging.exception('Expected')\n",
    "else:\n",
    "    assert False"
   ]
  },
  {
   "cell_type": "code",
   "execution_count": 20,
   "metadata": {},
   "outputs": [],
   "source": [
    "# Example 18\n",
    "# Restore the overloaded open above.\n",
    "open = real_open\n",
    "\n",
    "with open('data.bin', 'rb') as f:\n",
    "    data = f.read()\n",
    "\n",
    "assert data == b'\\xf1\\xf2\\xf3\\xf4\\xf5'"
   ]
  },
  {
   "cell_type": "code",
   "execution_count": 21,
   "metadata": {},
   "outputs": [],
   "source": [
    "# Example 19\n",
    "with open('data.bin', 'r', encoding='cp1252') as f:\n",
    "    data = f.read()\n",
    "\n",
    "assert data == 'ñòóôõ'"
   ]
  },
  {
   "cell_type": "code",
   "execution_count": null,
   "metadata": {},
   "outputs": [],
   "source": []
  }
 ]
}