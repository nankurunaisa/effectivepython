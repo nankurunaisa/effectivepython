{
 "metadata": {
  "language_info": {
   "codemirror_mode": {
    "name": "ipython",
    "version": 3
   },
   "file_extension": ".py",
   "mimetype": "text/x-python",
   "name": "python",
   "nbconvert_exporter": "python",
   "pygments_lexer": "ipython3",
   "version": "3.8.8-final"
  },
  "orig_nbformat": 2,
  "kernelspec": {
   "name": "python3",
   "display_name": "Python 3.8.8 64-bit ('py38': conda)",
   "metadata": {
    "interpreter": {
     "hash": "ccd487ed38572b3e19ef3faf0990f633e80ca0051bb31e2083bbae684677b431"
    }
   }
  }
 },
 "nbformat": 4,
 "nbformat_minor": 2,
 "cells": [
  {
   "cell_type": "code",
   "execution_count": 1,
   "metadata": {},
   "outputs": [
    {
     "output_type": "execute_result",
     "data": {
      "text/plain": [
       "<function __main__.close_open_files()>"
      ]
     },
     "metadata": {},
     "execution_count": 1
    }
   ],
   "source": [
    "#!/usr/bin/env PYTHONHASHSEED=1234 python3\n",
    "\n",
    "# Copyright 2014-2019 Brett Slatkin, Pearson Education Inc.\n",
    "#\n",
    "# Licensed under the Apache License, Version 2.0 (the \"License\");\n",
    "# you may not use this file except in compliance with the License.\n",
    "# You may obtain a copy of the License at\n",
    "#\n",
    "#     http://www.apache.org/licenses/LICENSE-2.0\n",
    "#\n",
    "# Unless required by applicable law or agreed to in writing, software\n",
    "# distributed under the License is distributed on an \"AS IS\" BASIS,\n",
    "# WITHOUT WARRANTIES OR CONDITIONS OF ANY KIND, either express or implied.\n",
    "# See the License for the specific language governing permissions and\n",
    "# limitations under the License.\n",
    "\n",
    "# Reproduce book environment\n",
    "import random\n",
    "random.seed(1234)\n",
    "\n",
    "import logging\n",
    "from pprint import pprint\n",
    "from sys import stdout as STDOUT\n",
    "\n",
    "# Write all output to a temporary directory\n",
    "import atexit\n",
    "import gc\n",
    "import io\n",
    "import os\n",
    "import tempfile\n",
    "\n",
    "TEST_DIR = tempfile.TemporaryDirectory()\n",
    "atexit.register(TEST_DIR.cleanup)\n",
    "\n",
    "# Make sure Windows processes exit cleanly\n",
    "OLD_CWD = os.getcwd()\n",
    "atexit.register(lambda: os.chdir(OLD_CWD))\n",
    "os.chdir(TEST_DIR.name)\n",
    "\n",
    "def close_open_files():\n",
    "    everything = gc.get_objects()\n",
    "    for obj in everything:\n",
    "        if isinstance(obj, io.IOBase):\n",
    "            obj.close()\n",
    "\n",
    "atexit.register(close_open_files)"
   ]
  },
  {
   "cell_type": "code",
   "execution_count": 2,
   "metadata": {},
   "outputs": [
    {
     "output_type": "stream",
     "name": "stdout",
     "text": [
      "* Running <class '__main__.Meta'>.__new__ for MyClass\nBases: ()\n{'__module__': '__main__',\n '__qualname__': 'MyClass',\n 'foo': <function MyClass.foo at 0x7cad44951310>,\n 'stuff': 123}\n* Running <class '__main__.Meta'>.__new__ for MySubclass\nBases: (<class '__main__.MyClass'>,)\n{'__module__': '__main__',\n '__qualname__': 'MySubclass',\n 'bar': <function MySubclass.bar at 0x7cad449721f0>,\n 'other': 567}\n"
     ]
    }
   ],
   "source": [
    "# Example 1\n",
    "class Meta(type):\n",
    "    def __new__(meta, name, bases, class_dict):\n",
    "        global print\n",
    "        orig_print = print\n",
    "        print(f'* Running {meta}.__new__ for {name}')\n",
    "        print('Bases:', bases)\n",
    "        print = pprint\n",
    "        print(class_dict)\n",
    "        print = orig_print\n",
    "        return type.__new__(meta, name, bases, class_dict)\n",
    "\n",
    "class MyClass(metaclass=Meta):\n",
    "    stuff = 123\n",
    "\n",
    "    def foo(self):\n",
    "        pass\n",
    "\n",
    "class MySubclass(MyClass):\n",
    "    other = 567\n",
    "\n",
    "    def bar(self):\n",
    "        pass"
   ]
  },
  {
   "cell_type": "code",
   "execution_count": 3,
   "metadata": {},
   "outputs": [],
   "source": [
    "# Example 2\n",
    "class ValidatePolygon(type):\n",
    "    def __new__(meta, name, bases, class_dict):\n",
    "        # Only validate subclasses of the Polygon class\n",
    "        if bases:\n",
    "            if class_dict['sides'] < 3:\n",
    "                raise ValueError('Polygons need 3+ sides')\n",
    "        return type.__new__(meta, name, bases, class_dict)\n",
    "\n",
    "class Polygon(metaclass=ValidatePolygon):\n",
    "    sides = None  # Must be specified by subclasses\n",
    "\n",
    "    @classmethod\n",
    "    def interior_angles(cls):\n",
    "        return (cls.sides - 2) * 180\n",
    "\n",
    "class Triangle(Polygon):\n",
    "    sides = 3\n",
    "\n",
    "class Rectangle(Polygon):\n",
    "    sides = 4\n",
    "\n",
    "class Nonagon(Polygon):\n",
    "    sides = 9\n",
    "\n",
    "assert Triangle.interior_angles() == 180\n",
    "assert Rectangle.interior_angles() == 360\n",
    "assert Nonagon.interior_angles() == 1260"
   ]
  },
  {
   "cell_type": "code",
   "execution_count": 4,
   "metadata": {},
   "outputs": [
    {
     "output_type": "stream",
     "name": "stderr",
     "text": [
      "ERROR:root:Expected\n",
      "Traceback (most recent call last):\n",
      "  File \"<ipython-input-4-661126f6e9fd>\", line 5, in <module>\n",
      "    class Line(Polygon):\n",
      "  File \"<ipython-input-3-b71e304cdb59>\", line 7, in __new__\n",
      "    raise ValueError('Polygons need 3+ sides')\n",
      "ValueError: Polygons need 3+ sides\n",
      "Before class\n",
      "Before sides\n",
      "After sides\n"
     ]
    }
   ],
   "source": [
    "# Example 3\n",
    "try:\n",
    "    print('Before class')\n",
    "    \n",
    "    class Line(Polygon):\n",
    "        print('Before sides')\n",
    "        sides = 2\n",
    "        print('After sides')\n",
    "    \n",
    "    print('After class')\n",
    "except:\n",
    "    logging.exception('Expected')\n",
    "else:\n",
    "    assert False"
   ]
  },
  {
   "cell_type": "code",
   "execution_count": 5,
   "metadata": {},
   "outputs": [],
   "source": [
    "# Example 4\n",
    "class BetterPolygon:\n",
    "    sides = None  # Must be specified by subclasses\n",
    "\n",
    "    def __init_subclass__(cls):\n",
    "        super().__init_subclass__()\n",
    "        if cls.sides < 3:\n",
    "            raise ValueError('Polygons need 3+ sides')\n",
    "\n",
    "    @classmethod\n",
    "    def interior_angles(cls):\n",
    "        return (cls.sides - 2) * 180\n",
    "\n",
    "class Hexagon(BetterPolygon):\n",
    "    sides = 6\n",
    "\n",
    "assert Hexagon.interior_angles() == 720"
   ]
  },
  {
   "cell_type": "code",
   "execution_count": 6,
   "metadata": {},
   "outputs": [
    {
     "output_type": "stream",
     "name": "stderr",
     "text": [
      "ERROR:root:Expected\n",
      "Traceback (most recent call last):\n",
      "  File \"<ipython-input-6-781f7803ddb1>\", line 5, in <module>\n",
      "    class Point(BetterPolygon):\n",
      "  File \"<ipython-input-5-3297e5db5606>\", line 8, in __init_subclass__\n",
      "    raise ValueError('Polygons need 3+ sides')\n",
      "ValueError: Polygons need 3+ sides\n",
      "Before class\n"
     ]
    }
   ],
   "source": [
    "# Example 5\n",
    "try:\n",
    "    print('Before class')\n",
    "    \n",
    "    class Point(BetterPolygon):\n",
    "        sides = 1\n",
    "    \n",
    "    print('After class')\n",
    "except:\n",
    "    logging.exception('Expected')\n",
    "else:\n",
    "    assert False"
   ]
  },
  {
   "cell_type": "code",
   "execution_count": 7,
   "metadata": {},
   "outputs": [],
   "source": [
    "# Example 6\n",
    "class ValidateFilled(type):\n",
    "    def __new__(meta, name, bases, class_dict):\n",
    "        # Only validate subclasses of the Filled class\n",
    "        if bases:\n",
    "            if class_dict['color'] not in ('red', 'green'):\n",
    "                raise ValueError('Fill color must be supported')\n",
    "        return type.__new__(meta, name, bases, class_dict)\n",
    "\n",
    "class Filled(metaclass=ValidateFilled):\n",
    "    color = None  # Must be specified by subclasses"
   ]
  },
  {
   "cell_type": "code",
   "execution_count": 8,
   "metadata": {},
   "outputs": [
    {
     "output_type": "stream",
     "name": "stderr",
     "text": [
      "ERROR:root:Expected\nTraceback (most recent call last):\n  File \"<ipython-input-8-01319cebde6f>\", line 3, in <module>\n    class RedPentagon(Filled, Polygon):\nTypeError: metaclass conflict: the metaclass of a derived class must be a (non-strict) subclass of the metaclasses of all its bases\n"
     ]
    }
   ],
   "source": [
    "# Example 7\n",
    "try:\n",
    "    class RedPentagon(Filled, Polygon):\n",
    "        color = 'blue'\n",
    "        sides = 5\n",
    "except:\n",
    "    logging.exception('Expected')\n",
    "else:\n",
    "    assert False"
   ]
  },
  {
   "cell_type": "code",
   "execution_count": 9,
   "metadata": {},
   "outputs": [],
   "source": [
    "# Example 8\n",
    "class ValidatePolygon(type):\n",
    "    def __new__(meta, name, bases, class_dict):\n",
    "        # Only validate non-root classes\n",
    "        if not class_dict.get('is_root'):\n",
    "            if class_dict['sides'] < 3:\n",
    "                raise ValueError('Polygons need 3+ sides')\n",
    "        return type.__new__(meta, name, bases, class_dict)\n",
    "\n",
    "class Polygon(metaclass=ValidatePolygon):\n",
    "    is_root = True\n",
    "    sides = None  # Must be specified by subclasses\n",
    "\n",
    "class ValidateFilledPolygon(ValidatePolygon):\n",
    "    def __new__(meta, name, bases, class_dict):\n",
    "        # Only validate non-root classes\n",
    "        if not class_dict.get('is_root'):\n",
    "            if class_dict['color'] not in ('red', 'green'):\n",
    "                raise ValueError('Fill color must be supported')\n",
    "        return super().__new__(meta, name, bases, class_dict)\n",
    "\n",
    "class FilledPolygon(Polygon, metaclass=ValidateFilledPolygon):\n",
    "    is_root = True\n",
    "    color = None  # Must be specified by subclasses"
   ]
  },
  {
   "cell_type": "code",
   "execution_count": 10,
   "metadata": {},
   "outputs": [],
   "source": [
    "# Example 9\n",
    "class GreenPentagon(FilledPolygon):\n",
    "    color = 'green'\n",
    "    sides = 5\n",
    "\n",
    "greenie = GreenPentagon()\n",
    "assert isinstance(greenie, Polygon)"
   ]
  },
  {
   "cell_type": "code",
   "execution_count": 11,
   "metadata": {},
   "outputs": [
    {
     "output_type": "stream",
     "name": "stderr",
     "text": [
      "ERROR:root:Expected\nTraceback (most recent call last):\n  File \"<ipython-input-11-8ab8ab521e2b>\", line 3, in <module>\n    class OrangePentagon(FilledPolygon):\n  File \"<ipython-input-9-2e5564fc70e4>\", line 19, in __new__\n    raise ValueError('Fill color must be supported')\nValueError: Fill color must be supported\n"
     ]
    }
   ],
   "source": [
    "# Example 10\n",
    "try:\n",
    "    class OrangePentagon(FilledPolygon):\n",
    "        color = 'orange'\n",
    "        sides = 5\n",
    "except:\n",
    "    logging.exception('Expected')\n",
    "else:\n",
    "    assert False"
   ]
  },
  {
   "cell_type": "code",
   "execution_count": 12,
   "metadata": {},
   "outputs": [
    {
     "output_type": "stream",
     "name": "stderr",
     "text": [
      "ERROR:root:Expected\nTraceback (most recent call last):\n  File \"<ipython-input-12-32a7c489e92e>\", line 3, in <module>\n    class RedLine(FilledPolygon):\n  File \"<ipython-input-9-2e5564fc70e4>\", line 20, in __new__\n    return super().__new__(meta, name, bases, class_dict)\n  File \"<ipython-input-9-2e5564fc70e4>\", line 7, in __new__\n    raise ValueError('Polygons need 3+ sides')\nValueError: Polygons need 3+ sides\n"
     ]
    }
   ],
   "source": [
    "# Example 11\n",
    "try:\n",
    "    class RedLine(FilledPolygon):\n",
    "        color = 'red'\n",
    "        sides = 2\n",
    "except:\n",
    "    logging.exception('Expected')\n",
    "else:\n",
    "    assert False"
   ]
  },
  {
   "cell_type": "code",
   "execution_count": 13,
   "metadata": {},
   "outputs": [],
   "source": [
    "# Example 12\n",
    "class Filled:\n",
    "    color = None  # Must be specified by subclasses\n",
    "\n",
    "    def __init_subclass__(cls):\n",
    "        super().__init_subclass__()\n",
    "        if cls.color not in ('red', 'green', 'blue'):\n",
    "            raise ValueError('Fills need a valid color')"
   ]
  },
  {
   "cell_type": "code",
   "execution_count": 14,
   "metadata": {},
   "outputs": [],
   "source": [
    "# Example 13\n",
    "class RedTriangle(Filled, BetterPolygon):\n",
    "    color = 'red'\n",
    "    sides = 3\n",
    "\n",
    "ruddy = RedTriangle()\n",
    "assert isinstance(ruddy, Filled)\n",
    "assert isinstance(ruddy, BetterPolygon)"
   ]
  },
  {
   "cell_type": "code",
   "execution_count": 15,
   "metadata": {},
   "outputs": [
    {
     "output_type": "stream",
     "name": "stderr",
     "text": [
      "ERROR:root:Expected\n",
      "Traceback (most recent call last):\n",
      "  File \"<ipython-input-15-f6d26b60aac0>\", line 5, in <module>\n",
      "    class BlueLine(Filled, BetterPolygon):\n",
      "  File \"<ipython-input-13-75d0265a7a15>\", line 6, in __init_subclass__\n",
      "    super().__init_subclass__()\n",
      "  File \"<ipython-input-5-3297e5db5606>\", line 8, in __init_subclass__\n",
      "    raise ValueError('Polygons need 3+ sides')\n",
      "ValueError: Polygons need 3+ sides\n",
      "Before class\n"
     ]
    }
   ],
   "source": [
    "# Example 14\n",
    "try:\n",
    "    print('Before class')\n",
    "    \n",
    "    class BlueLine(Filled, BetterPolygon):\n",
    "        color = 'blue'\n",
    "        sides = 2\n",
    "    \n",
    "    print('After class')\n",
    "except:\n",
    "    logging.exception('Expected')\n",
    "else:\n",
    "    assert False"
   ]
  },
  {
   "cell_type": "code",
   "execution_count": 16,
   "metadata": {},
   "outputs": [
    {
     "output_type": "stream",
     "name": "stderr",
     "text": [
      "ERROR:root:Expected\n",
      "Traceback (most recent call last):\n",
      "  File \"<ipython-input-16-116618672645>\", line 5, in <module>\n",
      "    class BeigeSquare(Filled, BetterPolygon):\n",
      "  File \"<ipython-input-13-75d0265a7a15>\", line 8, in __init_subclass__\n",
      "    raise ValueError('Fills need a valid color')\n",
      "ValueError: Fills need a valid color\n",
      "Before class\n"
     ]
    }
   ],
   "source": [
    "# Example 15\n",
    "try:\n",
    "    print('Before class')\n",
    "    \n",
    "    class BeigeSquare(Filled, BetterPolygon):\n",
    "        color = 'beige'\n",
    "        sides = 4\n",
    "    \n",
    "    print('After class')\n",
    "except:\n",
    "    logging.exception('Expected')\n",
    "else:\n",
    "    assert False"
   ]
  },
  {
   "cell_type": "code",
   "execution_count": 17,
   "metadata": {},
   "outputs": [
    {
     "output_type": "stream",
     "name": "stdout",
     "text": [
      "Top for <class '__main__.Left'>\nTop for <class '__main__.Right'>\nTop for <class '__main__.Bottom'>\nRight for <class '__main__.Bottom'>\nLeft for <class '__main__.Bottom'>\n"
     ]
    }
   ],
   "source": [
    "# Example 16\n",
    "class Top:\n",
    "    def __init_subclass__(cls):\n",
    "        super().__init_subclass__()\n",
    "        print(f'Top for {cls}')\n",
    "\n",
    "class Left(Top):\n",
    "    def __init_subclass__(cls):\n",
    "        super().__init_subclass__()\n",
    "        print(f'Left for {cls}')\n",
    "\n",
    "class Right(Top):\n",
    "    def __init_subclass__(cls):\n",
    "        super().__init_subclass__()\n",
    "        print(f'Right for {cls}')\n",
    "\n",
    "class Bottom(Left, Right):\n",
    "    def __init_subclass__(cls):\n",
    "        super().__init_subclass__()\n",
    "        print(f'Bottom for {cls}')"
   ]
  },
  {
   "cell_type": "code",
   "execution_count": null,
   "metadata": {},
   "outputs": [],
   "source": []
  }
 ]
}