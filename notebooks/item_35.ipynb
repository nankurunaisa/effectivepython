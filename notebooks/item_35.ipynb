{
 "metadata": {
  "language_info": {
   "codemirror_mode": {
    "name": "ipython",
    "version": 3
   },
   "file_extension": ".py",
   "mimetype": "text/x-python",
   "name": "python",
   "nbconvert_exporter": "python",
   "pygments_lexer": "ipython3",
   "version": "3.8.5-final"
  },
  "orig_nbformat": 2,
  "kernelspec": {
   "name": "python3",
   "display_name": "Python 3.8.5 64-bit ('.venv': venv)",
   "metadata": {
    "interpreter": {
     "hash": "73bbdec3959fe17c5cd1a7f08d0a8ad0cc33e165356ce763e8b97eb7675ac8c7"
    }
   }
  }
 },
 "nbformat": 4,
 "nbformat_minor": 2,
 "cells": [
  {
   "cell_type": "code",
   "execution_count": 1,
   "metadata": {},
   "outputs": [
    {
     "output_type": "execute_result",
     "data": {
      "text/plain": [
       "<function __main__.close_open_files()>"
      ]
     },
     "metadata": {},
     "execution_count": 1
    }
   ],
   "source": [
    "#!/usr/bin/env PYTHONHASHSEED=1234 python3\n",
    "\n",
    "# Copyright 2014-2019 Brett Slatkin, Pearson Education Inc.\n",
    "#\n",
    "# Licensed under the Apache License, Version 2.0 (the \"License\");\n",
    "# you may not use this file except in compliance with the License.\n",
    "# You may obtain a copy of the License at\n",
    "#\n",
    "#     http://www.apache.org/licenses/LICENSE-2.0\n",
    "#\n",
    "# Unless required by applicable law or agreed to in writing, software\n",
    "# distributed under the License is distributed on an \"AS IS\" BASIS,\n",
    "# WITHOUT WARRANTIES OR CONDITIONS OF ANY KIND, either express or implied.\n",
    "# See the License for the specific language governing permissions and\n",
    "# limitations under the License.\n",
    "\n",
    "# Reproduce book environment\n",
    "import random\n",
    "random.seed(1234)\n",
    "\n",
    "import logging\n",
    "from pprint import pprint\n",
    "from sys import stdout as STDOUT\n",
    "\n",
    "# Write all output to a temporary directory\n",
    "import atexit\n",
    "import gc\n",
    "import io\n",
    "import os\n",
    "import tempfile\n",
    "\n",
    "TEST_DIR = tempfile.TemporaryDirectory()\n",
    "atexit.register(TEST_DIR.cleanup)\n",
    "\n",
    "# Make sure Windows processes exit cleanly\n",
    "OLD_CWD = os.getcwd()\n",
    "atexit.register(lambda: os.chdir(OLD_CWD))\n",
    "os.chdir(TEST_DIR.name)\n",
    "\n",
    "def close_open_files():\n",
    "    everything = gc.get_objects()\n",
    "    for obj in everything:\n",
    "        if isinstance(obj, io.IOBase):\n",
    "            obj.close()\n",
    "\n",
    "atexit.register(close_open_files)"
   ]
  },
  {
   "cell_type": "code",
   "execution_count": 2,
   "metadata": {},
   "outputs": [
    {
     "output_type": "stream",
     "name": "stderr",
     "text": [
      "ERROR:root:Expected\n",
      "Traceback (most recent call last):\n",
      "  File \"<ipython-input-2-b387e55fcc45>\", line 14, in <module>\n",
      "    print(it.throw(MyError('test error')))\n",
      "  File \"<ipython-input-2-b387e55fcc45>\", line 8, in my_generator\n",
      "    yield 2\n",
      "MyError: test error\n",
      "1\n",
      "2\n"
     ]
    }
   ],
   "source": [
    "# Example 1\n",
    "try:\n",
    "    class MyError(Exception):\n",
    "        pass\n",
    "    \n",
    "    def my_generator():\n",
    "        yield 1\n",
    "        yield 2\n",
    "        yield 3\n",
    "    \n",
    "    it = my_generator()\n",
    "    print(next(it))  # Yield 1\n",
    "    print(next(it))  # Yield 2\n",
    "    print(it.throw(MyError('test error')))\n",
    "except:\n",
    "    logging.exception('Expected')\n",
    "else:\n",
    "    assert False"
   ]
  },
  {
   "cell_type": "code",
   "execution_count": 7,
   "metadata": {},
   "outputs": [
    {
     "output_type": "stream",
     "name": "stdout",
     "text": [
      "1\n2\nGot MyError!\n4\n"
     ]
    }
   ],
   "source": [
    "# Example 2\n",
    "def my_generator():\n",
    "    yield 1\n",
    "\n",
    "    try:\n",
    "        yield 2\n",
    "    except MyError:\n",
    "        print('Got MyError!')\n",
    "    else:\n",
    "        yield 3\n",
    "\n",
    "    yield 4\n",
    "\n",
    "it = my_generator()\n",
    "print(next(it))  # Yield 1\n",
    "print(next(it))  # Yield 2\n",
    "print(it.throw(MyError('test error')))"
   ]
  },
  {
   "cell_type": "code",
   "execution_count": 8,
   "metadata": {},
   "outputs": [],
   "source": [
    "# Example 3\n",
    "class Reset(Exception):\n",
    "    pass\n",
    "\n",
    "def timer(period):\n",
    "    current = period\n",
    "    while current:\n",
    "        current -= 1\n",
    "        try:\n",
    "            yield current\n",
    "        except Reset:\n",
    "            current = period"
   ]
  },
  {
   "cell_type": "code",
   "execution_count": 9,
   "metadata": {},
   "outputs": [
    {
     "output_type": "stream",
     "name": "stdout",
     "text": [
      "3 ticks remaining\n2 ticks remaining\n1 ticks remaining\n3 ticks remaining\n2 ticks remaining\n3 ticks remaining\n2 ticks remaining\n1 ticks remaining\n0 ticks remaining\n"
     ]
    }
   ],
   "source": [
    "# Example 4\n",
    "RESETS = [\n",
    "    False, False, False, True, False, True, False,\n",
    "    False, False, False, False, False, False, False]\n",
    "\n",
    "def check_for_reset():\n",
    "    # Poll for external event\n",
    "    return RESETS.pop(0)\n",
    "\n",
    "def announce(remaining):\n",
    "    print(f'{remaining} ticks remaining')\n",
    "\n",
    "def run():\n",
    "    it = timer(4)    \n",
    "    while True:\n",
    "        try:\n",
    "            if check_for_reset():\n",
    "                current = it.throw(Reset())\n",
    "            else:\n",
    "                current = next(it)\n",
    "        except StopIteration:\n",
    "            break\n",
    "        else:\n",
    "            announce(current)\n",
    "\n",
    "run()"
   ]
  },
  {
   "cell_type": "code",
   "execution_count": 10,
   "metadata": {},
   "outputs": [],
   "source": [
    "# Example 5\n",
    "class Timer:\n",
    "    def __init__(self, period):\n",
    "        self.current = period\n",
    "        self.period = period\n",
    "\n",
    "    def reset(self):\n",
    "        self.current = self.period\n",
    "\n",
    "    def __iter__(self):\n",
    "        while self.current:\n",
    "            self.current -= 1\n",
    "            yield self.current"
   ]
  },
  {
   "cell_type": "code",
   "execution_count": 11,
   "metadata": {},
   "outputs": [
    {
     "output_type": "stream",
     "name": "stdout",
     "text": [
      "3 ticks remaining\n2 ticks remaining\n1 ticks remaining\n3 ticks remaining\n2 ticks remaining\n3 ticks remaining\n2 ticks remaining\n1 ticks remaining\n0 ticks remaining\n"
     ]
    }
   ],
   "source": [
    "# Example 6\n",
    "RESETS = [\n",
    "    False, False, True, False, True, False,\n",
    "    False, False, False, False, False, False, False]\n",
    "\n",
    "def run():\n",
    "    timer = Timer(4)\n",
    "    for current in timer:\n",
    "        if check_for_reset():\n",
    "            timer.reset()\n",
    "        announce(current)\n",
    "\n",
    "run()"
   ]
  },
  {
   "cell_type": "code",
   "execution_count": null,
   "metadata": {},
   "outputs": [],
   "source": []
  }
 ]
}