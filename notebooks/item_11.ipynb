{
 "metadata": {
  "language_info": {
   "codemirror_mode": {
    "name": "ipython",
    "version": 3
   },
   "file_extension": ".py",
   "mimetype": "text/x-python",
   "name": "python",
   "nbconvert_exporter": "python",
   "pygments_lexer": "ipython3",
   "version": "3.8.5-final"
  },
  "orig_nbformat": 2,
  "kernelspec": {
   "name": "python3",
   "display_name": "Python 3.8.5 64-bit ('.venv': venv)",
   "metadata": {
    "interpreter": {
     "hash": "73bbdec3959fe17c5cd1a7f08d0a8ad0cc33e165356ce763e8b97eb7675ac8c7"
    }
   }
  }
 },
 "nbformat": 4,
 "nbformat_minor": 2,
 "cells": [
  {
   "cell_type": "code",
   "execution_count": 1,
   "metadata": {},
   "outputs": [
    {
     "output_type": "execute_result",
     "data": {
      "text/plain": [
       "<function __main__.close_open_files()>"
      ]
     },
     "metadata": {},
     "execution_count": 1
    }
   ],
   "source": [
    "#!/usr/bin/env PYTHONHASHSEED=1234 python3\n",
    "\n",
    "# Copyright 2014-2019 Brett Slatkin, Pearson Education Inc.\n",
    "#\n",
    "# Licensed under the Apache License, Version 2.0 (the \"License\");\n",
    "# you may not use this file except in compliance with the License.\n",
    "# You may obtain a copy of the License at\n",
    "#\n",
    "#     http://www.apache.org/licenses/LICENSE-2.0\n",
    "#\n",
    "# Unless required by applicable law or agreed to in writing, software\n",
    "# distributed under the License is distributed on an \"AS IS\" BASIS,\n",
    "# WITHOUT WARRANTIES OR CONDITIONS OF ANY KIND, either express or implied.\n",
    "# See the License for the specific language governing permissions and\n",
    "# limitations under the License.\n",
    "\n",
    "# Reproduce book environment\n",
    "import random\n",
    "random.seed(1234)\n",
    "\n",
    "import logging\n",
    "from pprint import pprint\n",
    "from sys import stdout as STDOUT\n",
    "\n",
    "# Write all output to a temporary directory\n",
    "import atexit\n",
    "import gc\n",
    "import io\n",
    "import os\n",
    "import tempfile\n",
    "\n",
    "TEST_DIR = tempfile.TemporaryDirectory()\n",
    "atexit.register(TEST_DIR.cleanup)\n",
    "\n",
    "# Make sure Windows processes exit cleanly\n",
    "OLD_CWD = os.getcwd()\n",
    "atexit.register(lambda: os.chdir(OLD_CWD))\n",
    "os.chdir(TEST_DIR.name)\n",
    "\n",
    "def close_open_files():\n",
    "    everything = gc.get_objects()\n",
    "    for obj in everything:\n",
    "        if isinstance(obj, io.IOBase):\n",
    "            obj.close()\n",
    "\n",
    "atexit.register(close_open_files)"
   ]
  },
  {
   "cell_type": "code",
   "execution_count": 2,
   "metadata": {},
   "outputs": [
    {
     "output_type": "stream",
     "name": "stdout",
     "text": [
      "Middle two:   ['d', 'e']\nAll but ends: ['b', 'c', 'd', 'e', 'f', 'g']\n"
     ]
    }
   ],
   "source": [
    "# Example 1\n",
    "a = ['a', 'b', 'c', 'd', 'e', 'f', 'g', 'h']\n",
    "print('Middle two:  ', a[3:5])\n",
    "print('All but ends:', a[1:7])"
   ]
  },
  {
   "cell_type": "code",
   "execution_count": 3,
   "metadata": {},
   "outputs": [],
   "source": [
    "# Example 2\n",
    "assert a[:5] == a[0:5]"
   ]
  },
  {
   "cell_type": "code",
   "execution_count": 4,
   "metadata": {},
   "outputs": [],
   "source": [
    "# Example 3\n",
    "assert a[5:] == a[5:len(a)]"
   ]
  },
  {
   "cell_type": "code",
   "execution_count": 5,
   "metadata": {},
   "outputs": [
    {
     "output_type": "stream",
     "name": "stdout",
     "text": [
      "['a', 'b', 'c', 'd', 'e', 'f', 'g', 'h']\n['a', 'b', 'c', 'd', 'e']\n['a', 'b', 'c', 'd', 'e', 'f', 'g']\n['e', 'f', 'g', 'h']\n['f', 'g', 'h']\n['c', 'd', 'e']\n['c', 'd', 'e', 'f', 'g']\n['f', 'g']\n"
     ]
    }
   ],
   "source": [
    "# Example 4\n",
    "print(a[:])\n",
    "print(a[:5])\n",
    "print(a[:-1])\n",
    "print(a[4:])\n",
    "print(a[-3:])\n",
    "print(a[2:5])\n",
    "print(a[2:-1])\n",
    "print(a[-3:-1])"
   ]
  },
  {
   "cell_type": "code",
   "execution_count": 6,
   "metadata": {},
   "outputs": [
    {
     "output_type": "execute_result",
     "data": {
      "text/plain": [
       "['f', 'g']"
      ]
     },
     "metadata": {},
     "execution_count": 6
    }
   ],
   "source": [
    "# Example 5\n",
    "a[:]      # ['a', 'b', 'c', 'd', 'e', 'f', 'g', 'h']\n",
    "a[:5]     # ['a', 'b', 'c', 'd', 'e']\n",
    "a[:-1]    # ['a', 'b', 'c', 'd', 'e', 'f', 'g']\n",
    "a[4:]     #                     ['e', 'f', 'g', 'h']\n",
    "a[-3:]    #                          ['f', 'g', 'h']\n",
    "a[2:5]    #           ['c', 'd', 'e']\n",
    "a[2:-1]   #           ['c', 'd', 'e', 'f', 'g']\n",
    "a[-3:-1]  #                          ['f', 'g']"
   ]
  },
  {
   "cell_type": "code",
   "execution_count": 7,
   "metadata": {},
   "outputs": [],
   "source": [
    "# Example 6\n",
    "first_twenty_items = a[:20]\n",
    "last_twenty_items = a[-20:]"
   ]
  },
  {
   "cell_type": "code",
   "execution_count": 8,
   "metadata": {},
   "outputs": [
    {
     "output_type": "stream",
     "name": "stderr",
     "text": [
      "ERROR:root:Expected\nTraceback (most recent call last):\n  File \"<ipython-input-8-5acf38a6565c>\", line 3, in <module>\n    a[20]\nIndexError: list index out of range\n"
     ]
    }
   ],
   "source": [
    "# Example 7\n",
    "try:\n",
    "    a[20]\n",
    "except:\n",
    "    logging.exception('Expected')\n",
    "else:\n",
    "    assert False"
   ]
  },
  {
   "cell_type": "code",
   "execution_count": 10,
   "metadata": {},
   "outputs": [
    {
     "output_type": "stream",
     "name": "stdout",
     "text": [
      "Before:    ['d', 'e', 'f', 'g', 'h']\nAfter:     ['d', 99, 'f', 'g', 'h']\nNo change: ['a', 'b', 'c', 'd', 'e', 'f', 'g', 'h']\n"
     ]
    }
   ],
   "source": [
    "# Example 8\n",
    "b = a[3:]\n",
    "print('Before:   ', b)\n",
    "b[1] = 99\n",
    "print('After:    ', b)\n",
    "print('No change:', a)"
   ]
  },
  {
   "cell_type": "code",
   "execution_count": 11,
   "metadata": {},
   "outputs": [
    {
     "output_type": "stream",
     "name": "stdout",
     "text": [
      "Before  ['a', 'b', 'c', 'd', 'e', 'f', 'g', 'h']\nAfter   ['a', 'b', 99, 22, 14, 'h']\n"
     ]
    }
   ],
   "source": [
    "# Example 9\n",
    "print('Before ', a)\n",
    "a[2:7] = [99, 22, 14]\n",
    "print('After  ', a)"
   ]
  },
  {
   "cell_type": "code",
   "execution_count": 12,
   "metadata": {},
   "outputs": [
    {
     "output_type": "stream",
     "name": "stdout",
     "text": [
      "Before  ['a', 'b', 99, 22, 14, 'h']\nAfter   ['a', 'b', 47, 11, 22, 14, 'h']\n"
     ]
    }
   ],
   "source": [
    "# Example 10\n",
    "print('Before ', a)\n",
    "a[2:3] = [47, 11]\n",
    "print('After  ', a)"
   ]
  },
  {
   "cell_type": "code",
   "execution_count": 13,
   "metadata": {},
   "outputs": [],
   "source": [
    "# Example 11\n",
    "b = a[:]\n",
    "assert b == a and b is not a"
   ]
  },
  {
   "cell_type": "code",
   "execution_count": 14,
   "metadata": {},
   "outputs": [
    {
     "output_type": "stream",
     "name": "stdout",
     "text": [
      "Before a ['a', 'b', 47, 11, 22, 14, 'h']\nBefore b ['a', 'b', 47, 11, 22, 14, 'h']\nAfter a  [101, 102, 103]\nAfter b  [101, 102, 103]\n"
     ]
    }
   ],
   "source": [
    "# Example 12\n",
    "b = a\n",
    "print('Before a', a)\n",
    "print('Before b', b)\n",
    "a[:] = [101, 102, 103]\n",
    "assert a is b             # Still the same list object\n",
    "print('After a ', a)      # Now has different contents\n",
    "print('After b ', b)      # Same list, so same contents as a"
   ]
  },
  {
   "cell_type": "code",
   "execution_count": null,
   "metadata": {},
   "outputs": [],
   "source": []
  }
 ]
}